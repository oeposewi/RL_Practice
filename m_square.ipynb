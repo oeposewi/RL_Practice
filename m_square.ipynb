{
 "cells": [
  {
   "cell_type": "markdown",
   "metadata": {},
   "source": [
    "# Import Dependencies"
   ]
  },
  {
   "cell_type": "code",
   "execution_count": 1,
   "metadata": {},
   "outputs": [],
   "source": [
    "import numpy as np\n",
    "import gym\n",
    "from gym import spaces\n",
    "from gym.spaces import MultiDiscrete\n",
    "import matplotlib\n",
    "import matplotlib.pyplot as plt\n",
    "from matplotlib import cm\n",
    "import time\n",
    "from stable_baselines3.common.env_checker import check_env"
   ]
  },
  {
   "cell_type": "code",
   "execution_count": 2,
   "metadata": {},
   "outputs": [
    {
     "data": {
      "text/plain": [
       "array([[ 6, 12,  5,  9],\n",
       "       [10, 11,  3,  4],\n",
       "       [ 8, 13, 16,  1],\n",
       "       [14,  7, 15,  2]])"
      ]
     },
     "execution_count": 2,
     "metadata": {},
     "output_type": "execute_result"
    }
   ],
   "source": [
    "m_sq = np.array([\n",
    "    [16, 3, 2, 13],\n",
    "    [5, 10, 11, 8],\n",
    "    [9, 6, 7, 12],\n",
    "    [4, 15, 14, 1]\n",
    "])\n",
    "\n",
    "rand_sq = np.arange(1,17)\n",
    "\n",
    "np.random.shuffle(rand_sq)\n",
    "\n",
    "rand_sq = rand_sq.reshape((4,4))\n",
    "\n",
    "n4_square = np.arange(1,17).reshape((4,4))\n",
    "\n",
    "\n",
    "r1 = np.random.choice(np.arange(1,17), 16, replace=False).reshape([4,4])\n",
    "r1"
   ]
  },
  {
   "cell_type": "markdown",
   "metadata": {},
   "source": [
    "# Calculate the constant:\n",
    "\n",
    "The magic constant for an nth order general magic square starting with an integer A and with entries in an increasing arithmetic series with difference D between terms is\n",
    "\n",
    "$M_2(n; A, D) = \\frac{1}{n} [2a + D(n^2-1)]\n",
    "$"
   ]
  },
  {
   "cell_type": "code",
   "execution_count": 3,
   "metadata": {},
   "outputs": [],
   "source": [
    "def score_square(input_array, start_int, step):\n",
    "    # Calculate constant\n",
    "    n = input_array.shape[0]\n",
    "    constant = (.5*n) * ( (2*start_int) + (step * ((n**2)-1)))\n",
    "    \n",
    "    # Calculate distances from constant\n",
    "    row_sums = input_array.sum(axis=0)\n",
    "    col_sums = input_array.sum(axis=1)\n",
    "    diag_sums = np.array([\n",
    "        np.diag(input_array).sum(),\n",
    "        np.diag(np.fliplr(input_array)).sum()\n",
    "    ])\n",
    "    quadrants = [q for top_and_bot in np.split(input_array,2, axis = 0) \n",
    "               for q in np.split(top_and_bot,2, axis = 1)]\n",
    "    quad_sums = np.array([i.sum() for i in quadrants])\n",
    "    \n",
    "    # Store distances in dict\n",
    "    all_sums = {\n",
    "        \"row\": row_sums,\n",
    "        \"col\": col_sums,\n",
    "        \"diag\": diag_sums,\n",
    "        \"quad\": quad_sums\n",
    "    }\n",
    "    \n",
    "    # sum all the distances from constant\n",
    "    total_dist = np.array([np.abs(constant - i).sum() for i in all_sums.values()]).sum()\n",
    "    print(total_dist)\n",
    "    # calculate reward \n",
    "    \n",
    "    # TO DO:\n",
    "    # calculate max distance \n",
    "    max_dist =  144\n",
    "    scaled_dist = 1 - (total_dist / max_dist)\n",
    "    return (scaled_dist, all_sums)\n",
    "#score_square(n4_square, 1, 1)"
   ]
  },
  {
   "cell_type": "code",
   "execution_count": 4,
   "metadata": {},
   "outputs": [],
   "source": [
    "def heatmap(data, row_labels, col_labels, ax=None,\n",
    "            cbar_kw={}, cbarlabel=\"\", **kwargs):\n",
    "    \"\"\"\n",
    "    Create a heatmap from a numpy array and two lists of labels.\n",
    "\n",
    "    Parameters\n",
    "    ----------\n",
    "    data\n",
    "        A 2D numpy array of shape (M, N).\n",
    "    row_labels\n",
    "        A list or array of length M with the labels for the rows.\n",
    "    col_labels\n",
    "        A list or array of length N with the labels for the columns.\n",
    "    ax\n",
    "        A `matplotlib.axes.Axes` instance to which the heatmap is plotted.  If\n",
    "        not provided, use current axes or create a new one.  Optional.\n",
    "    cbar_kw\n",
    "        A dictionary with arguments to `matplotlib.Figure.colorbar`.  Optional.\n",
    "    cbarlabel\n",
    "        The label for the colorbar.  Optional.\n",
    "    **kwargs\n",
    "        All other arguments are forwarded to `imshow`.\n",
    "    \"\"\"\n",
    "\n",
    "    if not ax:\n",
    "        ax = plt.gca()\n",
    "\n",
    "    # Plot the heatmap\n",
    "    im = ax.imshow(data, **kwargs)\n",
    "\n",
    "    # Create colorbar\n",
    "    #cbar = ax.figure.colorbar(im, ax=ax, **cbar_kw)\n",
    "    #cbar.ax.set_ylabel(cbarlabel, rotation=-90, va=\"bottom\")\n",
    "\n",
    "    # Show all ticks and label them with the respective list entries.\n",
    "    ax.set_xticks(np.arange(data.shape[1]), labels=col_labels)\n",
    "    ax.set_yticks(np.arange(data.shape[0]), labels=row_labels)\n",
    "\n",
    "    # Let the horizontal axes labeling appear on top.\n",
    "    ax.tick_params(top=True, bottom=False,\n",
    "                   labeltop=True, labelbottom=False)\n",
    "\n",
    "    # Rotate the tick labels and set their alignment.\n",
    "    #plt.setp(ax.get_xticklabels(), rotation=-30, ha=\"right\",\n",
    "     #        rotation_mode=\"anchor\")\n",
    "\n",
    "    # Turn spines off and create white grid.\n",
    "    ax.spines[:].set_visible(False)\n",
    "\n",
    "    ax.set_xticks(np.arange(data.shape[1]+1)-.5, minor=True)\n",
    "    ax.set_yticks(np.arange(data.shape[0]+1)-.5, minor=True)\n",
    "    ax.grid(which=\"minor\", color=\"w\", linestyle='-', linewidth=3)\n",
    "    ax.tick_params(which=\"minor\", bottom=False, left=False)\n",
    "\n",
    "    return im #, cbar\n",
    "\n",
    "\n",
    "def annotate_heatmap(im, data=None, valfmt=\"{x:.2f}\",\n",
    "                     textcolors=(\"black\", \"white\"),\n",
    "                     threshold=None, **textkw):\n",
    "    \"\"\"\n",
    "    A function to annotate a heatmap.\n",
    "\n",
    "    Parameters\n",
    "    ----------\n",
    "    im\n",
    "        The AxesImage to be labeled.\n",
    "    data\n",
    "        Data used to annotate.  If None, the image's data is used.  Optional.\n",
    "    valfmt\n",
    "        The format of the annotations inside the heatmap.  This should either\n",
    "        use the string format method, e.g. \"$ {x:.2f}\", or be a\n",
    "        `matplotlib.ticker.Formatter`.  Optional.\n",
    "    textcolors\n",
    "        A pair of colors.  The first is used for values below a threshold,\n",
    "        the second for those above.  Optional.\n",
    "    threshold\n",
    "        Value in data units according to which the colors from textcolors are\n",
    "        applied.  If None (the default) uses the middle of the colormap as\n",
    "        separation.  Optional.\n",
    "    **kwargs\n",
    "        All other arguments are forwarded to each call to `text` used to create\n",
    "        the text labels.\n",
    "    \"\"\"\n",
    "\n",
    "    if not isinstance(data, (list, np.ndarray)):\n",
    "        data = im.get_array()\n",
    "\n",
    "    # Normalize the threshold to the images color range.\n",
    "    if threshold is not None:\n",
    "        threshold = im.norm(threshold)\n",
    "    else:\n",
    "        threshold = im.norm(data.max())/2.\n",
    "\n",
    "    # Set default alignment to center, but allow it to be\n",
    "    # overwritten by textkw.\n",
    "    kw = dict(horizontalalignment=\"center\",\n",
    "              verticalalignment=\"center\")\n",
    "    kw.update(textkw)\n",
    "\n",
    "    # Get the formatter in case a string is supplied\n",
    "    if isinstance(valfmt, str):\n",
    "        valfmt = matplotlib.ticker.StrMethodFormatter(valfmt)\n",
    "\n",
    "    # Loop over the data and create a `Text` for each \"pixel\".\n",
    "    # Change the text's color depending on the data.\n",
    "    texts = []\n",
    "    for i in range(data.shape[0]):\n",
    "        for j in range(data.shape[1]):\n",
    "            kw.update(color=textcolors[int(im.norm(data[i, j]) > threshold)])\n",
    "            text = im.axes.text(j, i, valfmt(data[i, j], None), **kw)\n",
    "            texts.append(text)\n",
    "\n",
    "    return texts"
   ]
  },
  {
   "cell_type": "code",
   "execution_count": 5,
   "metadata": {},
   "outputs": [
    {
     "name": "stdout",
     "output_type": "stream",
     "text": [
      "84.0\n"
     ]
    },
    {
     "data": {
      "image/png": "[encoded data removed]",
      "text/plain": [
       "<Figure size 432x288 with 1 Axes>"
      ]
     },
     "metadata": {
      "needs_background": "light"
     },
     "output_type": "display_data"
    }
   ],
   "source": [
    "test_input = r1\n",
    "\n",
    "reward, info = score_square(test_input,1,1)\n",
    "\n",
    "fig, ax = plt.subplots()\n",
    "\n",
    "im = heatmap(test_input, info['col'], info['row'], \n",
    "                   ax = ax, cmap = 'YlGn'\n",
    "                   )\n",
    "texts = annotate_heatmap(im, valfmt=\"{x:}\")"
   ]
  },
  {
   "cell_type": "markdown",
   "metadata": {},
   "source": [
    "# Create Environment"
   ]
  },
  {
   "cell_type": "code",
   "execution_count": 9,
   "metadata": {},
   "outputs": [],
   "source": [
    "class magic_env(gym.Env):\n",
    "    metadata = {'render.modes': ['human']}\n",
    "    def __init__(self):\n",
    "        \n",
    "        # Actions we can take\n",
    "        self.action_space = spaces.MultiDiscrete([4,4,4,4]) # switch element at x,y with element at x,y\n",
    "\n",
    "        # Observed Square Array\n",
    "        self.observation_space = spaces.Box(low = 1, high= 16, shape=(4,4), dtype=np.int32)\n",
    "\n",
    "        # Set starting square\n",
    "        self.state = np.random.choice(np.arange(1,17), 16, replace=False).reshape([4,4])\n",
    "\n",
    "        # Set Game length\n",
    "        self.turns_left = 500\n",
    "\n",
    "    def step(self, action):\n",
    "        # apply action\n",
    "        def swap_elements(input_array, xyxy):\n",
    "            # subtract 1 for indexing\n",
    "            i = xyxy \n",
    "            #swap elements\n",
    "            seq = input_array\n",
    "            seq[i[0]][i[1]], seq[i[2]][i[3]] = seq[i[2]][i[3]], seq[i[0]][i[1]]\n",
    "            return seq\n",
    "        \n",
    "        self.state = swap_elements(self.state, action)\n",
    "\n",
    "        # Reduce turns left \n",
    "        self.turns_left -= 1\n",
    "\n",
    "        # Calculate reward\n",
    "        reward, info = score_square(self.state,1,1)\n",
    "\n",
    "        # Check if game over\n",
    "        if self.turns_left <= 0:\n",
    "            done = True\n",
    "        else:\n",
    "            done = False\n",
    "\n",
    "        return self.state, reward, done\n",
    "    \n",
    "    def reset(self):\n",
    "        self.state = np.random.choice(np.arange(1,17), 16, replace=False).reshape([4,4])\n",
    "        self.turns_left = 500\n",
    "        return self.state\n",
    "    \n",
    "    def render(self, mode='human'):\n",
    "        reward, info = score_square(self.state,1,1)\n",
    "        \n",
    "        fig, ax = plt.subplots()\n",
    "\n",
    "        im = heatmap(self.state, info['col'], info['row'], \n",
    "                        ax = ax, cmap = 'YlGn')\n",
    "        \n",
    "        texts = annotate_heatmap(im, valfmt=\"{x:}\")"
   ]
  },
  {
   "cell_type": "code",
   "execution_count": 10,
   "metadata": {},
   "outputs": [
    {
     "name": "stderr",
     "output_type": "stream",
     "text": [
      "C:\\Users\\olive\\anaconda3\\envs\\bl_env\\lib\\site-packages\\stable_baselines3\\common\\env_checker.py:130: UserWarning: Your observation  has an unconventional shape (neither an image, nor a 1D vector). We recommend you to flatten the observation to have only a 1D vector or use a custom policy to properly process the data.\n",
      "  warnings.warn(\n"
     ]
    },
    {
     "name": "stdout",
     "output_type": "stream",
     "text": [
      "97.0\n"
     ]
    },
    {
     "ename": "AssertionError",
     "evalue": "The `step()` method must return four values: obs, reward, done, info",
     "output_type": "error",
     "traceback": [
      "\u001b[1;31m---------------------------------------------------------------------------\u001b[0m",
      "\u001b[1;31mAssertionError\u001b[0m                            Traceback (most recent call last)",
      "\u001b[1;32m~\\AppData\\Local\\Temp\\ipykernel_13344\\369219149.py\u001b[0m in \u001b[0;36m<module>\u001b[1;34m\u001b[0m\n\u001b[0;32m      1\u001b[0m \u001b[0menv\u001b[0m \u001b[1;33m=\u001b[0m \u001b[0mmagic_env\u001b[0m\u001b[1;33m(\u001b[0m\u001b[1;33m)\u001b[0m\u001b[1;33m\u001b[0m\u001b[1;33m\u001b[0m\u001b[0m\n\u001b[0;32m      2\u001b[0m \u001b[1;33m\u001b[0m\u001b[0m\n\u001b[1;32m----> 3\u001b[1;33m \u001b[0mcheck_env\u001b[0m\u001b[1;33m(\u001b[0m\u001b[0menv\u001b[0m\u001b[1;33m)\u001b[0m\u001b[1;33m\u001b[0m\u001b[1;33m\u001b[0m\u001b[0m\n\u001b[0m",
      "\u001b[1;32m~\\anaconda3\\envs\\bl_env\\lib\\site-packages\\stable_baselines3\\common\\env_checker.py\u001b[0m in \u001b[0;36mcheck_env\u001b[1;34m(env, warn, skip_render_check)\u001b[0m\n\u001b[0;32m    281\u001b[0m \u001b[1;33m\u001b[0m\u001b[0m\n\u001b[0;32m    282\u001b[0m     \u001b[1;31m# ============ Check the returned values ===============\u001b[0m\u001b[1;33m\u001b[0m\u001b[1;33m\u001b[0m\u001b[0m\n\u001b[1;32m--> 283\u001b[1;33m     \u001b[0m_check_returned_values\u001b[0m\u001b[1;33m(\u001b[0m\u001b[0menv\u001b[0m\u001b[1;33m,\u001b[0m \u001b[0mobservation_space\u001b[0m\u001b[1;33m,\u001b[0m \u001b[0maction_space\u001b[0m\u001b[1;33m)\u001b[0m\u001b[1;33m\u001b[0m\u001b[1;33m\u001b[0m\u001b[0m\n\u001b[0m\u001b[0;32m    284\u001b[0m \u001b[1;33m\u001b[0m\u001b[0m\n\u001b[0;32m    285\u001b[0m     \u001b[1;31m# ==== Check the render method and the declared render modes ====\u001b[0m\u001b[1;33m\u001b[0m\u001b[1;33m\u001b[0m\u001b[0m\n",
      "\u001b[1;32m~\\anaconda3\\envs\\bl_env\\lib\\site-packages\\stable_baselines3\\common\\env_checker.py\u001b[0m in \u001b[0;36m_check_returned_values\u001b[1;34m(env, observation_space, action_space)\u001b[0m\n\u001b[0;32m    156\u001b[0m     \u001b[0mdata\u001b[0m \u001b[1;33m=\u001b[0m \u001b[0menv\u001b[0m\u001b[1;33m.\u001b[0m\u001b[0mstep\u001b[0m\u001b[1;33m(\u001b[0m\u001b[0maction\u001b[0m\u001b[1;33m)\u001b[0m\u001b[1;33m\u001b[0m\u001b[1;33m\u001b[0m\u001b[0m\n\u001b[0;32m    157\u001b[0m \u001b[1;33m\u001b[0m\u001b[0m\n\u001b[1;32m--> 158\u001b[1;33m     \u001b[1;32massert\u001b[0m \u001b[0mlen\u001b[0m\u001b[1;33m(\u001b[0m\u001b[0mdata\u001b[0m\u001b[1;33m)\u001b[0m \u001b[1;33m==\u001b[0m \u001b[1;36m4\u001b[0m\u001b[1;33m,\u001b[0m \u001b[1;34m\"The `step()` method must return four values: obs, reward, done, info\"\u001b[0m\u001b[1;33m\u001b[0m\u001b[1;33m\u001b[0m\u001b[0m\n\u001b[0m\u001b[0;32m    159\u001b[0m \u001b[1;33m\u001b[0m\u001b[0m\n\u001b[0;32m    160\u001b[0m     \u001b[1;31m# Unpack\u001b[0m\u001b[1;33m\u001b[0m\u001b[1;33m\u001b[0m\u001b[0m\n",
      "\u001b[1;31mAssertionError\u001b[0m: The `step()` method must return four values: obs, reward, done, info"
     ]
    }
   ],
   "source": [
    "env = magic_env()\n",
    "\n",
    "check_env(env)"
   ]
  },
  {
   "cell_type": "code",
   "execution_count": 16,
   "metadata": {},
   "outputs": [
    {
     "name": "stdout",
     "output_type": "stream",
     "text": [
      "106.0\n"
     ]
    },
    {
     "data": {
      "image/png": "[encoded data removed]",
      "text/plain": [
       "<Figure size 432x288 with 1 Axes>"
      ]
     },
     "metadata": {
      "needs_background": "light"
     },
     "output_type": "display_data"
    }
   ],
   "source": [
    "env.render()"
   ]
  },
  {
   "cell_type": "code",
   "execution_count": 29,
   "metadata": {},
   "outputs": [
    {
     "name": "stdout",
     "output_type": "stream",
     "text": [
      "94.0\n",
      "74.0\n",
      "74.0\n",
      "76.0\n",
      "76.0\n",
      "92.0\n",
      "92.0\n",
      "100.0\n",
      "100.0\n",
      "96.0\n",
      "96.0\n",
      "120.0\n",
      "120.0\n",
      "124.0\n",
      "124.0\n",
      "124.0\n",
      "124.0\n",
      "84.0\n",
      "84.0\n",
      "78.0\n",
      "78.0\n",
      "94.0\n",
      "94.0\n",
      "86.0\n",
      "86.0\n",
      "80.0\n",
      "80.0\n",
      "86.0\n",
      "86.0\n",
      "87.0\n",
      "87.0\n",
      "98.0\n",
      "98.0\n",
      "114.0\n",
      "114.0\n",
      "98.0\n",
      "98.0\n",
      "98.0\n",
      "98.0\n",
      "91.0\n",
      "91.0\n",
      "91.0\n",
      "91.0\n",
      "78.0\n",
      "78.0\n",
      "86.0\n",
      "86.0\n"
     ]
    },
    {
     "name": "stderr",
     "output_type": "stream",
     "text": [
      "C:\\Users\\olive\\AppData\\Local\\Temp\\ipykernel_6060\\2907324087.py:53: RuntimeWarning: More than 20 figures have been opened. Figures created through the pyplot interface (`matplotlib.pyplot.figure`) are retained until explicitly closed and may consume too much memory. (To control this warning, see the rcParam `figure.max_open_warning`).\n",
      "  fig, ax = plt.subplots()\n"
     ]
    },
    {
     "name": "stdout",
     "output_type": "stream",
     "text": [
      "70.0\n",
      "70.0\n",
      "82.0\n",
      "82.0\n",
      "82.0\n",
      "82.0\n",
      "91.0\n",
      "91.0\n",
      "89.0\n",
      "89.0\n",
      "89.0\n",
      "89.0\n",
      "89.0\n",
      "89.0\n",
      "105.0\n",
      "105.0\n",
      "105.0\n",
      "105.0\n",
      "102.0\n",
      "102.0\n",
      "114.0\n",
      "114.0\n",
      "124.0\n",
      "124.0\n",
      "112.0\n",
      "112.0\n",
      "96.0\n",
      "96.0\n",
      "98.0\n",
      "98.0\n",
      "92.0\n",
      "92.0\n",
      "98.0\n",
      "98.0\n",
      "106.0\n",
      "106.0\n",
      "78.0\n",
      "78.0\n",
      "78.0\n",
      "78.0\n",
      "56.0\n",
      "56.0\n",
      "60.0\n",
      "60.0\n",
      "78.0\n",
      "78.0\n",
      "82.0\n",
      "82.0\n",
      "96.0\n",
      "96.0\n",
      "78.0\n",
      "78.0\n",
      "108.0\n",
      "108.0\n",
      "102.0\n",
      "102.0\n",
      "102.0\n",
      "102.0\n",
      "114.0\n",
      "114.0\n",
      "110.0\n",
      "110.0\n",
      "85.0\n",
      "85.0\n",
      "96.0\n",
      "96.0\n",
      "95.0\n",
      "95.0\n",
      "81.0\n",
      "81.0\n",
      "85.0\n",
      "85.0\n",
      "95.0\n",
      "95.0\n",
      "88.0\n",
      "88.0\n",
      "84.0\n",
      "84.0\n",
      "94.0\n",
      "94.0\n",
      "69.0\n",
      "69.0\n",
      "68.0\n",
      "68.0\n",
      "70.0\n",
      "70.0\n",
      "68.0\n",
      "68.0\n",
      "72.0\n",
      "72.0\n",
      "74.0\n",
      "74.0\n",
      "66.0\n",
      "66.0\n",
      "64.0\n",
      "64.0\n",
      "56.0\n",
      "56.0\n",
      "98.0\n",
      "98.0\n",
      "56.0\n",
      "56.0\n",
      "56.0\n",
      "56.0\n",
      "80.0\n",
      "80.0\n",
      "102.0\n",
      "102.0\n",
      "122.0\n",
      "122.0\n",
      "124.0\n",
      "124.0\n",
      "112.0\n",
      "112.0\n",
      "112.0\n",
      "112.0\n",
      "112.0\n",
      "112.0\n",
      "112.0\n",
      "112.0\n",
      "104.0\n",
      "104.0\n",
      "120.0\n",
      "120.0\n",
      "123.0\n",
      "123.0\n",
      "125.0\n",
      "125.0\n",
      "91.0\n",
      "91.0\n",
      "93.0\n",
      "93.0\n",
      "105.0\n",
      "105.0\n",
      "85.0\n",
      "85.0\n",
      "87.0\n",
      "87.0\n",
      "92.0\n",
      "92.0\n",
      "76.0\n",
      "76.0\n",
      "88.0\n",
      "88.0\n",
      "94.0\n",
      "94.0\n",
      "94.0\n",
      "94.0\n",
      "98.0\n",
      "98.0\n",
      "105.0\n",
      "105.0\n",
      "105.0\n",
      "105.0\n",
      "121.0\n",
      "121.0\n",
      "121.0\n",
      "121.0\n",
      "120.0\n",
      "120.0\n",
      "120.0\n",
      "120.0\n",
      "114.0\n",
      "114.0\n",
      "114.0\n",
      "114.0\n",
      "114.0\n",
      "114.0\n",
      "106.0\n",
      "106.0\n",
      "92.0\n",
      "92.0\n",
      "70.0\n",
      "70.0\n",
      "71.0\n",
      "71.0\n",
      "63.0\n",
      "63.0\n",
      "63.0\n",
      "63.0\n",
      "60.0\n",
      "60.0\n",
      "63.0\n",
      "63.0\n",
      "70.0\n",
      "70.0\n",
      "70.0\n",
      "70.0\n",
      "82.0\n",
      "82.0\n",
      "79.0\n",
      "79.0\n",
      "77.0\n",
      "77.0\n",
      "87.0\n",
      "87.0\n",
      "87.0\n",
      "87.0\n",
      "79.0\n",
      "79.0\n",
      "99.0\n",
      "99.0\n",
      "99.0\n",
      "99.0\n",
      "83.0\n",
      "83.0\n",
      "85.0\n",
      "85.0\n",
      "90.0\n",
      "90.0\n",
      "91.0\n",
      "91.0\n",
      "98.0\n",
      "98.0\n",
      "104.0\n",
      "104.0\n",
      "104.0\n",
      "104.0\n",
      "118.0\n",
      "118.0\n",
      "118.0\n",
      "118.0\n",
      "78.0\n",
      "78.0\n",
      "83.0\n",
      "83.0\n",
      "85.0\n",
      "85.0\n",
      "89.0\n",
      "89.0\n",
      "100.0\n",
      "100.0\n",
      "74.0\n",
      "74.0\n",
      "95.0\n",
      "95.0\n",
      "95.0\n",
      "95.0\n",
      "74.0\n",
      "74.0\n",
      "88.0\n",
      "88.0\n",
      "96.0\n",
      "96.0\n",
      "96.0\n",
      "96.0\n",
      "82.0\n",
      "82.0\n",
      "68.0\n",
      "68.0\n",
      "90.0\n",
      "90.0\n",
      "93.0\n",
      "93.0\n",
      "67.0\n",
      "67.0\n",
      "70.0\n",
      "70.0\n",
      "95.0\n",
      "95.0\n",
      "53.0\n",
      "53.0\n",
      "75.0\n",
      "75.0\n",
      "83.0\n",
      "83.0\n",
      "95.0\n",
      "95.0\n",
      "96.0\n",
      "96.0\n",
      "98.0\n",
      "98.0\n",
      "109.0\n",
      "109.0\n",
      "115.0\n",
      "115.0\n",
      "103.0\n",
      "103.0\n",
      "94.0\n",
      "94.0\n",
      "101.0\n",
      "101.0\n",
      "101.0\n",
      "101.0\n",
      "103.0\n",
      "103.0\n",
      "108.0\n",
      "108.0\n",
      "108.0\n",
      "108.0\n",
      "107.0\n",
      "107.0\n",
      "107.0\n",
      "107.0\n",
      "102.0\n",
      "102.0\n",
      "102.0\n",
      "102.0\n",
      "106.0\n",
      "106.0\n",
      "111.0\n",
      "111.0\n",
      "117.0\n",
      "117.0\n",
      "119.0\n",
      "119.0\n",
      "116.0\n",
      "116.0\n",
      "113.0\n",
      "113.0\n",
      "113.0\n",
      "113.0\n",
      "101.0\n",
      "101.0\n",
      "102.0\n",
      "102.0\n",
      "113.0\n",
      "113.0\n",
      "115.0\n",
      "115.0\n",
      "118.0\n",
      "118.0\n",
      "118.0\n",
      "118.0\n",
      "118.0\n",
      "118.0\n",
      "127.0\n",
      "127.0\n",
      "137.0\n",
      "137.0\n",
      "86.0\n",
      "86.0\n",
      "99.0\n",
      "99.0\n",
      "89.0\n",
      "89.0\n",
      "83.0\n",
      "83.0\n",
      "86.0\n",
      "86.0\n",
      "78.0\n",
      "78.0\n",
      "50.0\n",
      "50.0\n",
      "47.0\n",
      "47.0\n",
      "61.0\n",
      "61.0\n",
      "74.0\n",
      "74.0\n",
      "74.0\n",
      "74.0\n",
      "100.0\n",
      "100.0\n",
      "100.0\n",
      "100.0\n",
      "116.0\n",
      "116.0\n",
      "113.0\n",
      "113.0\n",
      "100.0\n",
      "100.0\n",
      "100.0\n",
      "100.0\n",
      "104.0\n",
      "104.0\n",
      "122.0\n",
      "122.0\n",
      "120.0\n",
      "120.0\n",
      "120.0\n",
      "120.0\n",
      "114.0\n",
      "114.0\n",
      "120.0\n",
      "120.0\n",
      "118.0\n",
      "118.0\n",
      "110.0\n",
      "110.0\n",
      "112.0\n",
      "112.0\n",
      "100.0\n",
      "100.0\n",
      "109.0\n",
      "109.0\n",
      "119.0\n",
      "119.0\n",
      "121.0\n",
      "121.0\n",
      "120.0\n",
      "120.0\n",
      "104.0\n",
      "104.0\n",
      "104.0\n",
      "104.0\n",
      "104.0\n",
      "104.0\n",
      "104.0\n",
      "104.0\n",
      "104.0\n",
      "104.0\n",
      "97.0\n",
      "97.0\n",
      "103.0\n",
      "103.0\n",
      "103.0\n",
      "103.0\n",
      "107.0\n",
      "107.0\n",
      "109.0\n",
      "109.0\n",
      "107.0\n",
      "107.0\n",
      "106.0\n",
      "106.0\n",
      "97.0\n",
      "97.0\n",
      "97.0\n",
      "97.0\n",
      "113.0\n",
      "113.0\n",
      "99.0\n",
      "99.0\n",
      "95.0\n",
      "95.0\n",
      "95.0\n",
      "95.0\n",
      "101.0\n",
      "101.0\n",
      "123.0\n",
      "123.0\n",
      "107.0\n",
      "107.0\n",
      "65.0\n",
      "65.0\n",
      "82.0\n",
      "82.0\n",
      "80.0\n",
      "80.0\n",
      "79.0\n",
      "79.0\n",
      "107.0\n",
      "107.0\n",
      "107.0\n",
      "107.0\n",
      "103.0\n",
      "103.0\n",
      "95.0\n",
      "95.0\n",
      "99.0\n",
      "99.0\n",
      "116.0\n",
      "116.0\n",
      "109.0\n",
      "109.0\n",
      "123.0\n",
      "123.0\n",
      "120.0\n",
      "120.0\n",
      "88.0\n",
      "88.0\n",
      "92.0\n",
      "92.0\n",
      "86.0\n",
      "86.0\n",
      "86.0\n",
      "86.0\n",
      "90.0\n",
      "90.0\n",
      "97.0\n",
      "97.0\n",
      "85.0\n",
      "85.0\n",
      "81.0\n",
      "81.0\n",
      "72.0\n",
      "72.0\n",
      "84.0\n",
      "84.0\n",
      "91.0\n",
      "91.0\n",
      "78.0\n",
      "78.0\n",
      "88.0\n",
      "88.0\n",
      "70.0\n",
      "70.0\n",
      "88.0\n",
      "88.0\n",
      "76.0\n",
      "76.0\n",
      "78.0\n",
      "78.0\n",
      "76.0\n",
      "76.0\n",
      "74.0\n",
      "74.0\n",
      "78.0\n",
      "78.0\n",
      "108.0\n",
      "108.0\n",
      "86.0\n",
      "86.0\n",
      "82.0\n",
      "82.0\n",
      "86.0\n",
      "86.0\n",
      "83.0\n",
      "83.0\n",
      "71.0\n",
      "71.0\n",
      "71.0\n",
      "71.0\n",
      "49.0\n",
      "49.0\n",
      "76.0\n",
      "76.0\n",
      "77.0\n",
      "77.0\n",
      "81.0\n",
      "81.0\n",
      "47.0\n",
      "47.0\n",
      "55.0\n",
      "55.0\n",
      "55.0\n",
      "55.0\n",
      "68.0\n",
      "68.0\n",
      "60.0\n",
      "60.0\n",
      "60.0\n",
      "60.0\n",
      "60.0\n",
      "60.0\n",
      "61.0\n",
      "61.0\n",
      "38.0\n",
      "38.0\n",
      "85.0\n",
      "85.0\n",
      "84.0\n",
      "84.0\n",
      "70.0\n",
      "70.0\n",
      "84.0\n",
      "84.0\n",
      "84.0\n",
      "84.0\n",
      "81.0\n",
      "81.0\n",
      "116.0\n",
      "116.0\n",
      "110.0\n",
      "110.0\n",
      "116.0\n",
      "116.0\n",
      "116.0\n",
      "116.0\n",
      "122.0\n",
      "122.0\n",
      "115.0\n",
      "115.0\n",
      "115.0\n",
      "115.0\n",
      "115.0\n",
      "115.0\n",
      "119.0\n",
      "119.0\n",
      "110.0\n",
      "110.0\n",
      "103.0\n",
      "103.0\n",
      "105.0\n",
      "105.0\n",
      "105.0\n",
      "105.0\n",
      "91.0\n",
      "91.0\n",
      "91.0\n",
      "91.0\n",
      "88.0\n",
      "88.0\n",
      "92.0\n",
      "92.0\n",
      "92.0\n",
      "92.0\n",
      "118.0\n",
      "118.0\n",
      "103.0\n",
      "103.0\n",
      "94.0\n",
      "94.0\n",
      "92.0\n",
      "92.0\n",
      "110.0\n",
      "110.0\n",
      "97.0\n",
      "97.0\n",
      "103.0\n",
      "103.0\n",
      "89.0\n",
      "89.0\n",
      "96.0\n",
      "96.0\n",
      "94.0\n",
      "94.0\n",
      "110.0\n",
      "110.0\n",
      "96.0\n",
      "96.0\n",
      "91.0\n",
      "91.0\n",
      "93.0\n",
      "93.0\n",
      "93.0\n",
      "93.0\n",
      "105.0\n",
      "105.0\n",
      "93.0\n",
      "93.0\n",
      "101.0\n",
      "101.0\n",
      "113.0\n",
      "113.0\n",
      "91.0\n",
      "91.0\n",
      "71.0\n",
      "71.0\n",
      "100.0\n",
      "100.0\n",
      "74.0\n",
      "74.0\n",
      "50.0\n",
      "50.0\n",
      "47.0\n",
      "47.0\n",
      "77.0\n",
      "77.0\n",
      "79.0\n",
      "79.0\n",
      "79.0\n",
      "79.0\n",
      "64.0\n",
      "64.0\n",
      "54.0\n",
      "54.0\n",
      "51.0\n",
      "51.0\n",
      "65.0\n",
      "65.0\n",
      "55.0\n",
      "55.0\n",
      "53.0\n",
      "53.0\n",
      "51.0\n",
      "51.0\n",
      "51.0\n",
      "51.0\n",
      "85.0\n",
      "85.0\n",
      "93.0\n",
      "93.0\n",
      "92.0\n",
      "92.0\n",
      "86.0\n",
      "86.0\n",
      "74.0\n",
      "74.0\n",
      "70.0\n",
      "70.0\n",
      "91.0\n",
      "91.0\n",
      "115.0\n",
      "115.0\n",
      "58.0\n",
      "58.0\n",
      "112.0\n",
      "112.0\n",
      "62.0\n",
      "62.0\n",
      "58.0\n",
      "58.0\n",
      "78.0\n",
      "78.0\n",
      "66.0\n",
      "66.0\n",
      "85.0\n",
      "85.0\n",
      "87.0\n",
      "87.0\n",
      "87.0\n",
      "87.0\n",
      "93.0\n",
      "93.0\n",
      "93.0\n",
      "93.0\n",
      "95.0\n",
      "95.0\n",
      "107.0\n",
      "107.0\n",
      "103.0\n",
      "103.0\n",
      "103.0\n",
      "103.0\n",
      "103.0\n",
      "103.0\n",
      "88.0\n",
      "88.0\n",
      "54.0\n",
      "54.0\n",
      "72.0\n",
      "72.0\n",
      "76.0\n",
      "76.0\n",
      "121.0\n",
      "121.0\n",
      "131.0\n",
      "131.0\n",
      "119.0\n",
      "119.0\n",
      "123.0\n",
      "123.0\n",
      "126.0\n",
      "126.0\n",
      "115.0\n",
      "115.0\n",
      "107.0\n",
      "107.0\n",
      "109.0\n",
      "109.0\n",
      "113.0\n",
      "113.0\n",
      "115.0\n",
      "115.0\n",
      "125.0\n",
      "125.0\n",
      "107.0\n",
      "107.0\n",
      "103.0\n",
      "103.0\n",
      "97.0\n",
      "97.0\n",
      "132.0\n",
      "132.0\n",
      "132.0\n",
      "132.0\n",
      "135.0\n",
      "135.0\n",
      "123.0\n",
      "123.0\n",
      "126.0\n",
      "126.0\n",
      "122.0\n",
      "122.0\n",
      "118.0\n",
      "118.0\n",
      "110.0\n",
      "110.0\n",
      "106.0\n",
      "106.0\n",
      "106.0\n",
      "106.0\n",
      "106.0\n",
      "106.0\n",
      "116.0\n",
      "116.0\n",
      "124.0\n",
      "124.0\n",
      "87.0\n",
      "87.0\n",
      "95.0\n",
      "95.0\n",
      "100.0\n",
      "100.0\n",
      "105.0\n",
      "105.0\n",
      "109.0\n",
      "109.0\n",
      "107.0\n",
      "107.0\n",
      "110.0\n",
      "110.0\n",
      "107.0\n",
      "107.0\n",
      "97.0\n",
      "97.0\n",
      "89.0\n",
      "89.0\n",
      "91.0\n",
      "91.0\n",
      "81.0\n",
      "81.0\n",
      "73.0\n",
      "73.0\n",
      "77.0\n",
      "77.0\n",
      "85.0\n",
      "85.0\n",
      "98.0\n",
      "98.0\n",
      "79.0\n",
      "79.0\n",
      "61.0\n",
      "61.0\n",
      "73.0\n",
      "73.0\n",
      "101.0\n",
      "101.0\n",
      "111.0\n",
      "111.0\n",
      "118.0\n",
      "118.0\n",
      "121.0\n",
      "121.0\n",
      "81.0\n",
      "81.0\n",
      "89.0\n",
      "89.0\n",
      "83.0\n",
      "83.0\n",
      "83.0\n",
      "83.0\n",
      "114.0\n",
      "114.0\n",
      "84.0\n",
      "84.0\n",
      "76.0\n",
      "76.0\n",
      "78.0\n",
      "78.0\n",
      "77.0\n",
      "77.0\n",
      "87.0\n",
      "87.0\n",
      "89.0\n",
      "89.0\n",
      "77.0\n",
      "77.0\n",
      "67.0\n",
      "67.0\n",
      "75.0\n",
      "75.0\n",
      "75.0\n",
      "75.0\n",
      "74.0\n",
      "74.0\n",
      "110.0\n",
      "110.0\n",
      "110.0\n",
      "110.0\n",
      "92.0\n",
      "92.0\n",
      "92.0\n",
      "92.0\n",
      "126.0\n",
      "126.0\n",
      "137.0\n",
      "137.0\n",
      "131.0\n",
      "131.0\n",
      "130.0\n",
      "130.0\n",
      "128.0\n",
      "128.0\n",
      "118.0\n",
      "118.0\n",
      "91.0\n",
      "91.0\n",
      "94.0\n",
      "94.0\n",
      "110.0\n",
      "110.0\n",
      "110.0\n",
      "110.0\n",
      "103.0\n",
      "103.0\n",
      "102.0\n",
      "102.0\n",
      "115.0\n",
      "115.0\n",
      "105.0\n",
      "105.0\n",
      "107.0\n",
      "107.0\n",
      "111.0\n",
      "111.0\n",
      "104.0\n",
      "104.0\n",
      "104.0\n",
      "104.0\n",
      "108.0\n",
      "108.0\n",
      "115.0\n",
      "115.0\n",
      "114.0\n",
      "114.0\n",
      "114.0\n",
      "114.0\n",
      "98.0\n",
      "98.0\n",
      "82.0\n",
      "82.0\n",
      "86.0\n",
      "86.0\n",
      "87.0\n",
      "87.0\n",
      "76.0\n",
      "76.0\n",
      "76.0\n",
      "76.0\n",
      "72.0\n",
      "72.0\n",
      "98.0\n",
      "98.0\n",
      "103.0\n",
      "103.0\n",
      "103.0\n",
      "103.0\n",
      "99.0\n",
      "99.0\n",
      "101.0\n",
      "101.0\n",
      "101.0\n",
      "101.0\n",
      "98.0\n",
      "98.0\n",
      "90.0\n",
      "90.0\n",
      "91.0\n",
      "91.0\n",
      "93.0\n",
      "93.0\n",
      "72.0\n",
      "72.0\n",
      "88.0\n",
      "88.0\n",
      "88.0\n",
      "88.0\n",
      "76.0\n",
      "76.0\n",
      "81.0\n",
      "81.0\n",
      "81.0\n",
      "81.0\n",
      "87.0\n",
      "87.0\n",
      "63.0\n",
      "63.0\n",
      "69.0\n",
      "69.0\n",
      "72.0\n",
      "Episode:1 Score:174.31944444444457\n",
      "70.0\n",
      "94.0\n",
      "94.0\n",
      "97.0\n",
      "97.0\n",
      "95.0\n",
      "95.0\n",
      "111.0\n",
      "111.0\n",
      "109.0\n",
      "109.0\n",
      "121.0\n",
      "121.0\n",
      "108.0\n",
      "108.0\n",
      "94.0\n",
      "94.0\n",
      "104.0\n",
      "104.0\n",
      "110.0\n",
      "110.0\n",
      "116.0\n",
      "116.0\n",
      "108.0\n",
      "108.0\n",
      "66.0\n",
      "66.0\n",
      "111.0\n",
      "111.0\n",
      "125.0\n",
      "125.0\n",
      "99.0\n",
      "99.0\n",
      "108.0\n",
      "108.0\n",
      "107.0\n",
      "107.0\n",
      "111.0\n",
      "111.0\n",
      "119.0\n",
      "119.0\n",
      "122.0\n",
      "122.0\n",
      "117.0\n",
      "117.0\n",
      "119.0\n",
      "119.0\n",
      "110.0\n",
      "110.0\n",
      "110.0\n",
      "110.0\n",
      "96.0\n",
      "96.0\n",
      "103.0\n",
      "103.0\n",
      "115.0\n",
      "115.0\n",
      "118.0\n",
      "118.0\n",
      "101.0\n",
      "101.0\n",
      "101.0\n",
      "101.0\n",
      "101.0\n",
      "101.0\n",
      "100.0\n",
      "100.0\n",
      "100.0\n",
      "100.0\n",
      "104.0\n",
      "104.0\n",
      "101.0\n",
      "101.0\n",
      "100.0\n",
      "100.0\n",
      "90.0\n",
      "90.0\n",
      "86.0\n",
      "86.0\n",
      "86.0\n",
      "86.0\n",
      "88.0\n",
      "88.0\n",
      "92.0\n",
      "92.0\n",
      "90.0\n",
      "90.0\n",
      "102.0\n",
      "102.0\n",
      "102.0\n",
      "102.0\n",
      "105.0\n",
      "105.0\n",
      "83.0\n",
      "83.0\n",
      "73.0\n",
      "73.0\n",
      "64.0\n",
      "64.0\n",
      "60.0\n",
      "60.0\n",
      "109.0\n",
      "109.0\n",
      "118.0\n",
      "118.0\n",
      "111.0\n",
      "111.0\n",
      "111.0\n",
      "111.0\n",
      "113.0\n",
      "113.0\n",
      "117.0\n",
      "117.0\n",
      "118.0\n",
      "118.0\n",
      "118.0\n",
      "118.0\n",
      "114.0\n",
      "114.0\n",
      "110.0\n",
      "110.0\n",
      "102.0\n",
      "102.0\n",
      "127.0\n",
      "127.0\n",
      "113.0\n",
      "113.0\n",
      "109.0\n",
      "109.0\n",
      "112.0\n",
      "112.0\n",
      "109.0\n",
      "109.0\n",
      "87.0\n",
      "87.0\n",
      "89.0\n",
      "89.0\n",
      "98.0\n",
      "98.0\n",
      "100.0\n",
      "100.0\n",
      "94.0\n",
      "94.0\n",
      "94.0\n",
      "94.0\n",
      "83.0\n",
      "83.0\n",
      "108.0\n",
      "108.0\n",
      "96.0\n",
      "96.0\n",
      "100.0\n",
      "100.0\n",
      "107.0\n",
      "107.0\n",
      "103.0\n",
      "103.0\n",
      "106.0\n",
      "106.0\n",
      "106.0\n",
      "106.0\n",
      "110.0\n",
      "110.0\n",
      "106.0\n",
      "106.0\n",
      "106.0\n",
      "106.0\n",
      "106.0\n",
      "106.0\n",
      "118.0\n",
      "118.0\n",
      "80.0\n",
      "80.0\n",
      "77.0\n",
      "77.0\n",
      "103.0\n",
      "103.0\n",
      "87.0\n",
      "87.0\n",
      "87.0\n",
      "87.0\n",
      "81.0\n",
      "81.0\n",
      "75.0\n",
      "75.0\n",
      "91.0\n",
      "91.0\n",
      "62.0\n",
      "62.0\n",
      "61.0\n",
      "61.0\n",
      "58.0\n",
      "58.0\n",
      "66.0\n",
      "66.0\n",
      "69.0\n",
      "69.0\n",
      "89.0\n",
      "89.0\n",
      "87.0\n",
      "87.0\n",
      "87.0\n",
      "87.0\n",
      "76.0\n",
      "76.0\n",
      "82.0\n",
      "82.0\n",
      "104.0\n",
      "104.0\n",
      "82.0\n",
      "82.0\n",
      "63.0\n",
      "63.0\n",
      "69.0\n",
      "69.0\n",
      "78.0\n",
      "78.0\n",
      "55.0\n",
      "55.0\n",
      "80.0\n",
      "80.0\n",
      "108.0\n",
      "108.0\n",
      "108.0\n",
      "108.0\n",
      "100.0\n",
      "100.0\n",
      "98.0\n",
      "98.0\n",
      "94.0\n",
      "94.0\n",
      "98.0\n",
      "98.0\n",
      "95.0\n",
      "95.0\n",
      "88.0\n",
      "88.0\n",
      "82.0\n",
      "82.0\n",
      "72.0\n",
      "72.0\n",
      "65.0\n",
      "65.0\n",
      "70.0\n",
      "70.0\n",
      "78.0\n",
      "78.0\n",
      "94.0\n",
      "94.0\n",
      "97.0\n",
      "97.0\n",
      "95.0\n",
      "95.0\n",
      "99.0\n",
      "99.0\n",
      "117.0\n",
      "117.0\n",
      "117.0\n",
      "117.0\n",
      "108.0\n",
      "108.0\n",
      "108.0\n",
      "108.0\n",
      "114.0\n",
      "114.0\n",
      "106.0\n",
      "106.0\n",
      "108.0\n",
      "108.0\n",
      "109.0\n",
      "109.0\n",
      "128.0\n",
      "128.0\n",
      "130.0\n",
      "130.0\n",
      "129.0\n",
      "129.0\n",
      "123.0\n",
      "123.0\n",
      "132.0\n",
      "132.0\n",
      "133.0\n",
      "133.0\n",
      "134.0\n",
      "134.0\n",
      "144.0\n",
      "144.0\n",
      "126.0\n",
      "126.0\n",
      "92.0\n",
      "92.0\n",
      "94.0\n",
      "94.0\n",
      "94.0\n",
      "94.0\n",
      "88.0\n",
      "88.0\n",
      "82.0\n",
      "82.0\n",
      "86.0\n",
      "86.0\n",
      "104.0\n",
      "104.0\n",
      "125.0\n",
      "125.0\n",
      "105.0\n",
      "105.0\n",
      "111.0\n",
      "111.0\n",
      "105.0\n",
      "105.0\n",
      "98.0\n",
      "98.0\n",
      "94.0\n",
      "94.0\n",
      "94.0\n",
      "94.0\n",
      "110.0\n",
      "110.0\n",
      "110.0\n",
      "110.0\n",
      "112.0\n",
      "112.0\n",
      "109.0\n",
      "109.0\n",
      "109.0\n",
      "109.0\n",
      "103.0\n",
      "103.0\n",
      "101.0\n",
      "101.0\n",
      "97.0\n",
      "97.0\n",
      "98.0\n",
      "98.0\n",
      "98.0\n",
      "98.0\n",
      "98.0\n",
      "98.0\n",
      "127.0\n",
      "127.0\n",
      "133.0\n",
      "133.0\n",
      "121.0\n",
      "121.0\n",
      "120.0\n",
      "120.0\n",
      "112.0\n",
      "112.0\n",
      "95.0\n",
      "95.0\n",
      "99.0\n",
      "99.0\n",
      "111.0\n",
      "111.0\n",
      "105.0\n",
      "105.0\n",
      "125.0\n",
      "125.0\n",
      "81.0\n",
      "81.0\n",
      "85.0\n",
      "85.0\n",
      "98.0\n",
      "98.0\n",
      "80.0\n",
      "80.0\n",
      "73.0\n",
      "73.0\n",
      "83.0\n",
      "83.0\n",
      "90.0\n",
      "90.0\n",
      "75.0\n",
      "75.0\n",
      "83.0\n",
      "83.0\n",
      "81.0\n",
      "81.0\n",
      "81.0\n",
      "81.0\n",
      "101.0\n",
      "101.0\n",
      "85.0\n",
      "85.0\n",
      "87.0\n",
      "87.0\n",
      "88.0\n",
      "88.0\n",
      "94.0\n",
      "94.0\n",
      "88.0\n",
      "88.0\n",
      "85.0\n",
      "85.0\n",
      "86.0\n",
      "86.0\n",
      "77.0\n",
      "77.0\n",
      "70.0\n",
      "70.0\n",
      "72.0\n",
      "72.0\n",
      "92.0\n",
      "92.0\n",
      "87.0\n",
      "87.0\n",
      "77.0\n",
      "77.0\n",
      "61.0\n",
      "61.0\n",
      "78.0\n",
      "78.0\n",
      "80.0\n",
      "80.0\n",
      "80.0\n",
      "80.0\n",
      "94.0\n",
      "94.0\n",
      "71.0\n",
      "71.0\n",
      "71.0\n",
      "71.0\n",
      "114.0\n",
      "114.0\n",
      "80.0\n",
      "80.0\n",
      "106.0\n",
      "106.0\n",
      "108.0\n",
      "108.0\n",
      "115.0\n",
      "115.0\n",
      "117.0\n",
      "117.0\n",
      "135.0\n",
      "135.0\n",
      "105.0\n",
      "105.0\n",
      "101.0\n",
      "101.0\n",
      "82.0\n",
      "82.0\n",
      "67.0\n",
      "67.0\n",
      "62.0\n",
      "62.0\n",
      "64.0\n",
      "64.0\n",
      "70.0\n",
      "70.0\n",
      "80.0\n",
      "80.0\n",
      "84.0\n",
      "84.0\n",
      "82.0\n",
      "82.0\n",
      "74.0\n",
      "74.0\n",
      "76.0\n",
      "76.0\n",
      "92.0\n",
      "92.0\n",
      "99.0\n",
      "99.0\n",
      "89.0\n",
      "89.0\n",
      "107.0\n",
      "107.0\n",
      "131.0\n",
      "131.0\n",
      "131.0\n",
      "131.0\n",
      "131.0\n",
      "131.0\n",
      "134.0\n",
      "134.0\n",
      "128.0\n",
      "128.0\n",
      "128.0\n",
      "128.0\n",
      "115.0\n",
      "115.0\n",
      "126.0\n",
      "126.0\n",
      "123.0\n",
      "123.0\n",
      "131.0\n",
      "131.0\n",
      "129.0\n",
      "129.0\n",
      "113.0\n",
      "113.0\n",
      "95.0\n",
      "95.0\n",
      "95.0\n",
      "95.0\n",
      "95.0\n",
      "95.0\n",
      "83.0\n",
      "83.0\n",
      "87.0\n",
      "87.0\n",
      "93.0\n",
      "93.0\n",
      "92.0\n",
      "92.0\n",
      "89.0\n",
      "89.0\n",
      "91.0\n",
      "91.0\n",
      "79.0\n",
      "79.0\n",
      "77.0\n",
      "77.0\n",
      "87.0\n",
      "87.0\n",
      "107.0\n",
      "107.0\n",
      "107.0\n",
      "107.0\n",
      "100.0\n",
      "100.0\n",
      "96.0\n",
      "96.0\n",
      "96.0\n",
      "96.0\n",
      "94.0\n",
      "94.0\n",
      "127.0\n",
      "127.0\n",
      "133.0\n",
      "133.0\n",
      "104.0\n",
      "104.0\n",
      "118.0\n",
      "118.0\n",
      "106.0\n",
      "106.0\n",
      "144.0\n",
      "144.0\n",
      "132.0\n",
      "132.0\n",
      "130.0\n",
      "130.0\n",
      "124.0\n",
      "124.0\n",
      "133.0\n",
      "133.0\n",
      "101.0\n",
      "101.0\n",
      "133.0\n",
      "133.0\n",
      "128.0\n",
      "128.0\n",
      "128.0\n",
      "128.0\n",
      "124.0\n",
      "124.0\n",
      "122.0\n",
      "122.0\n",
      "102.0\n",
      "102.0\n",
      "103.0\n",
      "103.0\n",
      "86.0\n",
      "86.0\n",
      "87.0\n",
      "87.0\n",
      "85.0\n",
      "85.0\n",
      "85.0\n",
      "85.0\n",
      "79.0\n",
      "79.0\n",
      "85.0\n",
      "85.0\n",
      "86.0\n",
      "86.0\n",
      "101.0\n",
      "101.0\n",
      "106.0\n",
      "106.0\n",
      "104.0\n",
      "104.0\n",
      "104.0\n",
      "104.0\n",
      "96.0\n",
      "96.0\n",
      "80.0\n",
      "80.0\n",
      "76.0\n",
      "76.0\n",
      "74.0\n",
      "74.0\n",
      "89.0\n",
      "89.0\n",
      "105.0\n",
      "105.0\n",
      "99.0\n",
      "99.0\n",
      "119.0\n",
      "119.0\n",
      "119.0\n",
      "119.0\n",
      "121.0\n",
      "121.0\n",
      "85.0\n",
      "85.0\n",
      "83.0\n",
      "83.0\n",
      "83.0\n",
      "83.0\n",
      "71.0\n",
      "71.0\n",
      "67.0\n",
      "67.0\n",
      "69.0\n",
      "69.0\n",
      "74.0\n",
      "74.0\n",
      "86.0\n",
      "86.0\n",
      "114.0\n",
      "114.0\n",
      "100.0\n",
      "100.0\n",
      "104.0\n",
      "104.0\n",
      "100.0\n",
      "100.0\n",
      "99.0\n",
      "99.0\n",
      "99.0\n",
      "99.0\n",
      "115.0\n",
      "115.0\n",
      "115.0\n",
      "115.0\n",
      "117.0\n",
      "117.0\n",
      "125.0\n",
      "125.0\n",
      "125.0\n",
      "125.0\n",
      "129.0\n",
      "129.0\n",
      "119.0\n",
      "119.0\n",
      "115.0\n",
      "115.0\n",
      "97.0\n",
      "97.0\n",
      "97.0\n",
      "97.0\n",
      "96.0\n",
      "96.0\n",
      "116.0\n",
      "116.0\n",
      "101.0\n",
      "101.0\n",
      "89.0\n",
      "89.0\n",
      "87.0\n",
      "87.0\n",
      "94.0\n",
      "94.0\n",
      "56.0\n",
      "56.0\n",
      "62.0\n",
      "62.0\n",
      "84.0\n",
      "84.0\n",
      "110.0\n",
      "110.0\n",
      "92.0\n",
      "92.0\n",
      "92.0\n",
      "92.0\n",
      "80.0\n",
      "80.0\n",
      "80.0\n",
      "80.0\n",
      "121.0\n",
      "121.0\n",
      "125.0\n",
      "125.0\n",
      "105.0\n",
      "105.0\n",
      "120.0\n",
      "120.0\n",
      "110.0\n",
      "110.0\n",
      "112.0\n",
      "112.0\n",
      "128.0\n",
      "128.0\n",
      "98.0\n",
      "98.0\n",
      "98.0\n",
      "98.0\n",
      "93.0\n",
      "93.0\n",
      "91.0\n",
      "91.0\n",
      "94.0\n",
      "94.0\n",
      "94.0\n",
      "94.0\n",
      "94.0\n",
      "94.0\n",
      "96.0\n",
      "96.0\n",
      "100.0\n",
      "100.0\n",
      "105.0\n",
      "105.0\n",
      "105.0\n",
      "105.0\n",
      "99.0\n",
      "99.0\n",
      "115.0\n",
      "115.0\n",
      "119.0\n",
      "119.0\n",
      "107.0\n",
      "107.0\n",
      "113.0\n",
      "113.0\n",
      "113.0\n",
      "113.0\n",
      "113.0\n",
      "113.0\n",
      "107.0\n",
      "107.0\n",
      "101.0\n",
      "101.0\n",
      "107.0\n",
      "107.0\n",
      "101.0\n",
      "101.0\n",
      "98.0\n",
      "98.0\n",
      "101.0\n",
      "101.0\n",
      "96.0\n",
      "96.0\n",
      "105.0\n",
      "105.0\n",
      "115.0\n",
      "115.0\n",
      "115.0\n",
      "115.0\n",
      "93.0\n",
      "93.0\n",
      "87.0\n",
      "87.0\n",
      "89.0\n",
      "89.0\n",
      "83.0\n",
      "83.0\n",
      "77.0\n",
      "77.0\n",
      "73.0\n",
      "73.0\n",
      "75.0\n",
      "75.0\n",
      "85.0\n",
      "85.0\n",
      "75.0\n",
      "75.0\n",
      "87.0\n",
      "87.0\n",
      "68.0\n",
      "68.0\n",
      "62.0\n",
      "62.0\n",
      "53.0\n",
      "53.0\n",
      "117.0\n",
      "117.0\n",
      "124.0\n",
      "124.0\n",
      "124.0\n",
      "124.0\n",
      "124.0\n",
      "124.0\n",
      "127.0\n",
      "127.0\n",
      "126.0\n",
      "126.0\n",
      "122.0\n",
      "122.0\n",
      "112.0\n",
      "112.0\n",
      "111.0\n",
      "111.0\n",
      "111.0\n",
      "111.0\n",
      "107.0\n",
      "107.0\n"
     ]
    },
    {
     "ename": "KeyboardInterrupt",
     "evalue": "",
     "output_type": "error",
     "traceback": [
      "\u001b[1;31m---------------------------------------------------------------------------\u001b[0m",
      "\u001b[1;31mKeyboardInterrupt\u001b[0m                         Traceback (most recent call last)",
      "\u001b[1;32m~\\AppData\\Local\\Temp\\ipykernel_6060\\1359830832.py\u001b[0m in \u001b[0;36m<module>\u001b[1;34m\u001b[0m\n\u001b[0;32m      6\u001b[0m \u001b[1;33m\u001b[0m\u001b[0m\n\u001b[0;32m      7\u001b[0m     \u001b[1;32mwhile\u001b[0m \u001b[1;32mnot\u001b[0m \u001b[0mdone\u001b[0m\u001b[1;33m:\u001b[0m\u001b[1;33m\u001b[0m\u001b[1;33m\u001b[0m\u001b[0m\n\u001b[1;32m----> 8\u001b[1;33m         \u001b[0menv\u001b[0m\u001b[1;33m.\u001b[0m\u001b[0mrender\u001b[0m\u001b[1;33m(\u001b[0m\u001b[0mmode\u001b[0m \u001b[1;33m=\u001b[0m \u001b[1;34m'human'\u001b[0m\u001b[1;33m)\u001b[0m\u001b[1;33m\u001b[0m\u001b[1;33m\u001b[0m\u001b[0m\n\u001b[0m\u001b[0;32m      9\u001b[0m         \u001b[0mtime\u001b[0m\u001b[1;33m.\u001b[0m\u001b[0msleep\u001b[0m\u001b[1;33m(\u001b[0m\u001b[1;36m.01\u001b[0m\u001b[1;33m)\u001b[0m\u001b[1;33m\u001b[0m\u001b[1;33m\u001b[0m\u001b[0m\n\u001b[0;32m     10\u001b[0m         \u001b[0maction\u001b[0m \u001b[1;33m=\u001b[0m \u001b[0menv\u001b[0m\u001b[1;33m.\u001b[0m\u001b[0maction_space\u001b[0m\u001b[1;33m.\u001b[0m\u001b[0msample\u001b[0m\u001b[1;33m(\u001b[0m\u001b[1;33m)\u001b[0m\u001b[1;33m\u001b[0m\u001b[1;33m\u001b[0m\u001b[0m\n",
      "\u001b[1;32m~\\AppData\\Local\\Temp\\ipykernel_6060\\2907324087.py\u001b[0m in \u001b[0;36mrender\u001b[1;34m(self, mode)\u001b[0m\n\u001b[0;32m     51\u001b[0m         \u001b[0mreward\u001b[0m\u001b[1;33m,\u001b[0m \u001b[0minfo\u001b[0m \u001b[1;33m=\u001b[0m \u001b[0mscore_square\u001b[0m\u001b[1;33m(\u001b[0m\u001b[0mrender_square\u001b[0m\u001b[1;33m,\u001b[0m\u001b[1;36m1\u001b[0m\u001b[1;33m,\u001b[0m\u001b[1;36m1\u001b[0m\u001b[1;33m)\u001b[0m\u001b[1;33m\u001b[0m\u001b[1;33m\u001b[0m\u001b[0m\n\u001b[0;32m     52\u001b[0m \u001b[1;33m\u001b[0m\u001b[0m\n\u001b[1;32m---> 53\u001b[1;33m         \u001b[0mfig\u001b[0m\u001b[1;33m,\u001b[0m \u001b[0max\u001b[0m \u001b[1;33m=\u001b[0m \u001b[0mplt\u001b[0m\u001b[1;33m.\u001b[0m\u001b[0msubplots\u001b[0m\u001b[1;33m(\u001b[0m\u001b[1;33m)\u001b[0m\u001b[1;33m\u001b[0m\u001b[1;33m\u001b[0m\u001b[0m\n\u001b[0m\u001b[0;32m     54\u001b[0m \u001b[1;33m\u001b[0m\u001b[0m\n\u001b[0;32m     55\u001b[0m         im = heatmap(render_square, info['col'], info['row'], \n",
      "\u001b[1;32m~\\anaconda3\\envs\\bl_env\\lib\\site-packages\\matplotlib\\pyplot.py\u001b[0m in \u001b[0;36msubplots\u001b[1;34m(nrows, ncols, sharex, sharey, squeeze, subplot_kw, gridspec_kw, **fig_kw)\u001b[0m\n\u001b[0;32m   1433\u001b[0m     \"\"\"\n\u001b[0;32m   1434\u001b[0m     \u001b[0mfig\u001b[0m \u001b[1;33m=\u001b[0m \u001b[0mfigure\u001b[0m\u001b[1;33m(\u001b[0m\u001b[1;33m**\u001b[0m\u001b[0mfig_kw\u001b[0m\u001b[1;33m)\u001b[0m\u001b[1;33m\u001b[0m\u001b[1;33m\u001b[0m\u001b[0m\n\u001b[1;32m-> 1435\u001b[1;33m     axs = fig.subplots(nrows=nrows, ncols=ncols, sharex=sharex, sharey=sharey,\n\u001b[0m\u001b[0;32m   1436\u001b[0m                        \u001b[0msqueeze\u001b[0m\u001b[1;33m=\u001b[0m\u001b[0msqueeze\u001b[0m\u001b[1;33m,\u001b[0m \u001b[0msubplot_kw\u001b[0m\u001b[1;33m=\u001b[0m\u001b[0msubplot_kw\u001b[0m\u001b[1;33m,\u001b[0m\u001b[1;33m\u001b[0m\u001b[1;33m\u001b[0m\u001b[0m\n\u001b[0;32m   1437\u001b[0m                        gridspec_kw=gridspec_kw)\n",
      "\u001b[1;32m~\\anaconda3\\envs\\bl_env\\lib\\site-packages\\matplotlib\\figure.py\u001b[0m in \u001b[0;36msubplots\u001b[1;34m(self, nrows, ncols, sharex, sharey, squeeze, subplot_kw, gridspec_kw)\u001b[0m\n\u001b[0;32m    895\u001b[0m             \u001b[0mgridspec_kw\u001b[0m \u001b[1;33m=\u001b[0m \u001b[1;33m{\u001b[0m\u001b[1;33m}\u001b[0m\u001b[1;33m\u001b[0m\u001b[1;33m\u001b[0m\u001b[0m\n\u001b[0;32m    896\u001b[0m         \u001b[0mgs\u001b[0m \u001b[1;33m=\u001b[0m \u001b[0mself\u001b[0m\u001b[1;33m.\u001b[0m\u001b[0madd_gridspec\u001b[0m\u001b[1;33m(\u001b[0m\u001b[0mnrows\u001b[0m\u001b[1;33m,\u001b[0m \u001b[0mncols\u001b[0m\u001b[1;33m,\u001b[0m \u001b[0mfigure\u001b[0m\u001b[1;33m=\u001b[0m\u001b[0mself\u001b[0m\u001b[1;33m,\u001b[0m \u001b[1;33m**\u001b[0m\u001b[0mgridspec_kw\u001b[0m\u001b[1;33m)\u001b[0m\u001b[1;33m\u001b[0m\u001b[1;33m\u001b[0m\u001b[0m\n\u001b[1;32m--> 897\u001b[1;33m         axs = gs.subplots(sharex=sharex, sharey=sharey, squeeze=squeeze,\n\u001b[0m\u001b[0;32m    898\u001b[0m                           subplot_kw=subplot_kw)\n\u001b[0;32m    899\u001b[0m         \u001b[1;32mreturn\u001b[0m \u001b[0maxs\u001b[0m\u001b[1;33m\u001b[0m\u001b[1;33m\u001b[0m\u001b[0m\n",
      "\u001b[1;32m~\\anaconda3\\envs\\bl_env\\lib\\site-packages\\matplotlib\\gridspec.py\u001b[0m in \u001b[0;36msubplots\u001b[1;34m(self, sharex, sharey, squeeze, subplot_kw)\u001b[0m\n\u001b[0;32m    305\u001b[0m                 \u001b[0msubplot_kw\u001b[0m\u001b[1;33m[\u001b[0m\u001b[1;34m\"sharex\"\u001b[0m\u001b[1;33m]\u001b[0m \u001b[1;33m=\u001b[0m \u001b[0mshared_with\u001b[0m\u001b[1;33m[\u001b[0m\u001b[0msharex\u001b[0m\u001b[1;33m]\u001b[0m\u001b[1;33m\u001b[0m\u001b[1;33m\u001b[0m\u001b[0m\n\u001b[0;32m    306\u001b[0m                 \u001b[0msubplot_kw\u001b[0m\u001b[1;33m[\u001b[0m\u001b[1;34m\"sharey\"\u001b[0m\u001b[1;33m]\u001b[0m \u001b[1;33m=\u001b[0m \u001b[0mshared_with\u001b[0m\u001b[1;33m[\u001b[0m\u001b[0msharey\u001b[0m\u001b[1;33m]\u001b[0m\u001b[1;33m\u001b[0m\u001b[1;33m\u001b[0m\u001b[0m\n\u001b[1;32m--> 307\u001b[1;33m                 axarr[row, col] = figure.add_subplot(\n\u001b[0m\u001b[0;32m    308\u001b[0m                     self[row, col], **subplot_kw)\n\u001b[0;32m    309\u001b[0m \u001b[1;33m\u001b[0m\u001b[0m\n",
      "\u001b[1;32m~\\anaconda3\\envs\\bl_env\\lib\\site-packages\\matplotlib\\figure.py\u001b[0m in \u001b[0;36madd_subplot\u001b[1;34m(self, *args, **kwargs)\u001b[0m\n\u001b[0;32m    770\u001b[0m             projection_class, pkw = self._process_projection_requirements(\n\u001b[0;32m    771\u001b[0m                 *args, **kwargs)\n\u001b[1;32m--> 772\u001b[1;33m             \u001b[0max\u001b[0m \u001b[1;33m=\u001b[0m \u001b[0msubplot_class_factory\u001b[0m\u001b[1;33m(\u001b[0m\u001b[0mprojection_class\u001b[0m\u001b[1;33m)\u001b[0m\u001b[1;33m(\u001b[0m\u001b[0mself\u001b[0m\u001b[1;33m,\u001b[0m \u001b[1;33m*\u001b[0m\u001b[0margs\u001b[0m\u001b[1;33m,\u001b[0m \u001b[1;33m**\u001b[0m\u001b[0mpkw\u001b[0m\u001b[1;33m)\u001b[0m\u001b[1;33m\u001b[0m\u001b[1;33m\u001b[0m\u001b[0m\n\u001b[0m\u001b[0;32m    773\u001b[0m             \u001b[0mkey\u001b[0m \u001b[1;33m=\u001b[0m \u001b[1;33m(\u001b[0m\u001b[0mprojection_class\u001b[0m\u001b[1;33m,\u001b[0m \u001b[0mpkw\u001b[0m\u001b[1;33m)\u001b[0m\u001b[1;33m\u001b[0m\u001b[1;33m\u001b[0m\u001b[0m\n\u001b[0;32m    774\u001b[0m         \u001b[1;32mreturn\u001b[0m \u001b[0mself\u001b[0m\u001b[1;33m.\u001b[0m\u001b[0m_add_axes_internal\u001b[0m\u001b[1;33m(\u001b[0m\u001b[0max\u001b[0m\u001b[1;33m,\u001b[0m \u001b[0mkey\u001b[0m\u001b[1;33m)\u001b[0m\u001b[1;33m\u001b[0m\u001b[1;33m\u001b[0m\u001b[0m\n",
      "\u001b[1;32m~\\anaconda3\\envs\\bl_env\\lib\\site-packages\\matplotlib\\axes\\_subplots.py\u001b[0m in \u001b[0;36m__init__\u001b[1;34m(self, fig, *args, **kwargs)\u001b[0m\n\u001b[0;32m     32\u001b[0m         \"\"\"\n\u001b[0;32m     33\u001b[0m         \u001b[1;31m# _axes_class is set in the subplot_class_factory\u001b[0m\u001b[1;33m\u001b[0m\u001b[1;33m\u001b[0m\u001b[0m\n\u001b[1;32m---> 34\u001b[1;33m         \u001b[0mself\u001b[0m\u001b[1;33m.\u001b[0m\u001b[0m_axes_class\u001b[0m\u001b[1;33m.\u001b[0m\u001b[0m__init__\u001b[0m\u001b[1;33m(\u001b[0m\u001b[0mself\u001b[0m\u001b[1;33m,\u001b[0m \u001b[0mfig\u001b[0m\u001b[1;33m,\u001b[0m \u001b[1;33m[\u001b[0m\u001b[1;36m0\u001b[0m\u001b[1;33m,\u001b[0m \u001b[1;36m0\u001b[0m\u001b[1;33m,\u001b[0m \u001b[1;36m1\u001b[0m\u001b[1;33m,\u001b[0m \u001b[1;36m1\u001b[0m\u001b[1;33m]\u001b[0m\u001b[1;33m,\u001b[0m \u001b[1;33m**\u001b[0m\u001b[0mkwargs\u001b[0m\u001b[1;33m)\u001b[0m\u001b[1;33m\u001b[0m\u001b[1;33m\u001b[0m\u001b[0m\n\u001b[0m\u001b[0;32m     35\u001b[0m         \u001b[1;31m# This will also update the axes position.\u001b[0m\u001b[1;33m\u001b[0m\u001b[1;33m\u001b[0m\u001b[0m\n\u001b[0;32m     36\u001b[0m         \u001b[0mself\u001b[0m\u001b[1;33m.\u001b[0m\u001b[0mset_subplotspec\u001b[0m\u001b[1;33m(\u001b[0m\u001b[0mSubplotSpec\u001b[0m\u001b[1;33m.\u001b[0m\u001b[0m_from_subplot_args\u001b[0m\u001b[1;33m(\u001b[0m\u001b[0mfig\u001b[0m\u001b[1;33m,\u001b[0m \u001b[0margs\u001b[0m\u001b[1;33m)\u001b[0m\u001b[1;33m)\u001b[0m\u001b[1;33m\u001b[0m\u001b[1;33m\u001b[0m\u001b[0m\n",
      "\u001b[1;32m~\\anaconda3\\envs\\bl_env\\lib\\site-packages\\matplotlib\\_api\\deprecation.py\u001b[0m in \u001b[0;36mwrapper\u001b[1;34m(*args, **kwargs)\u001b[0m\n\u001b[0;32m    454\u001b[0m                 \u001b[1;34m\"parameter will become keyword-only %(removal)s.\"\u001b[0m\u001b[1;33m,\u001b[0m\u001b[1;33m\u001b[0m\u001b[1;33m\u001b[0m\u001b[0m\n\u001b[0;32m    455\u001b[0m                 name=name, obj_type=f\"parameter of {func.__name__}()\")\n\u001b[1;32m--> 456\u001b[1;33m         \u001b[1;32mreturn\u001b[0m \u001b[0mfunc\u001b[0m\u001b[1;33m(\u001b[0m\u001b[1;33m*\u001b[0m\u001b[0margs\u001b[0m\u001b[1;33m,\u001b[0m \u001b[1;33m**\u001b[0m\u001b[0mkwargs\u001b[0m\u001b[1;33m)\u001b[0m\u001b[1;33m\u001b[0m\u001b[1;33m\u001b[0m\u001b[0m\n\u001b[0m\u001b[0;32m    457\u001b[0m \u001b[1;33m\u001b[0m\u001b[0m\n\u001b[0;32m    458\u001b[0m     \u001b[1;31m# Don't modify *func*'s signature, as boilerplate.py needs it.\u001b[0m\u001b[1;33m\u001b[0m\u001b[1;33m\u001b[0m\u001b[0m\n",
      "\u001b[1;32m~\\anaconda3\\envs\\bl_env\\lib\\site-packages\\matplotlib\\axes\\_base.py\u001b[0m in \u001b[0;36m__init__\u001b[1;34m(self, fig, rect, facecolor, frameon, sharex, sharey, label, xscale, yscale, box_aspect, **kwargs)\u001b[0m\n\u001b[0;32m    630\u001b[0m \u001b[1;33m\u001b[0m\u001b[0m\n\u001b[0;32m    631\u001b[0m         \u001b[0mself\u001b[0m\u001b[1;33m.\u001b[0m\u001b[0m_rasterization_zorder\u001b[0m \u001b[1;33m=\u001b[0m \u001b[1;32mNone\u001b[0m\u001b[1;33m\u001b[0m\u001b[1;33m\u001b[0m\u001b[0m\n\u001b[1;32m--> 632\u001b[1;33m         \u001b[0mself\u001b[0m\u001b[1;33m.\u001b[0m\u001b[0mcla\u001b[0m\u001b[1;33m(\u001b[0m\u001b[1;33m)\u001b[0m\u001b[1;33m\u001b[0m\u001b[1;33m\u001b[0m\u001b[0m\n\u001b[0m\u001b[0;32m    633\u001b[0m \u001b[1;33m\u001b[0m\u001b[0m\n\u001b[0;32m    634\u001b[0m         \u001b[1;31m# funcs used to format x and y - fall back on major formatters\u001b[0m\u001b[1;33m\u001b[0m\u001b[1;33m\u001b[0m\u001b[0m\n",
      "\u001b[1;32m~\\anaconda3\\envs\\bl_env\\lib\\site-packages\\matplotlib\\axes\\_base.py\u001b[0m in \u001b[0;36mcla\u001b[1;34m(self)\u001b[0m\n\u001b[0;32m   1299\u001b[0m \u001b[1;33m\u001b[0m\u001b[0m\n\u001b[0;32m   1300\u001b[0m         \u001b[0mself\u001b[0m\u001b[1;33m.\u001b[0m\u001b[0mxaxis\u001b[0m\u001b[1;33m.\u001b[0m\u001b[0mset_clip_path\u001b[0m\u001b[1;33m(\u001b[0m\u001b[0mself\u001b[0m\u001b[1;33m.\u001b[0m\u001b[0mpatch\u001b[0m\u001b[1;33m)\u001b[0m\u001b[1;33m\u001b[0m\u001b[1;33m\u001b[0m\u001b[0m\n\u001b[1;32m-> 1301\u001b[1;33m         \u001b[0mself\u001b[0m\u001b[1;33m.\u001b[0m\u001b[0myaxis\u001b[0m\u001b[1;33m.\u001b[0m\u001b[0mset_clip_path\u001b[0m\u001b[1;33m(\u001b[0m\u001b[0mself\u001b[0m\u001b[1;33m.\u001b[0m\u001b[0mpatch\u001b[0m\u001b[1;33m)\u001b[0m\u001b[1;33m\u001b[0m\u001b[1;33m\u001b[0m\u001b[0m\n\u001b[0m\u001b[0;32m   1302\u001b[0m \u001b[1;33m\u001b[0m\u001b[0m\n\u001b[0;32m   1303\u001b[0m         \u001b[0mself\u001b[0m\u001b[1;33m.\u001b[0m\u001b[0m_shared_axes\u001b[0m\u001b[1;33m[\u001b[0m\u001b[1;34m\"x\"\u001b[0m\u001b[1;33m]\u001b[0m\u001b[1;33m.\u001b[0m\u001b[0mclean\u001b[0m\u001b[1;33m(\u001b[0m\u001b[1;33m)\u001b[0m\u001b[1;33m\u001b[0m\u001b[1;33m\u001b[0m\u001b[0m\n",
      "\u001b[1;32m~\\anaconda3\\envs\\bl_env\\lib\\site-packages\\matplotlib\\axis.py\u001b[0m in \u001b[0;36mset_clip_path\u001b[1;34m(self, clippath, transform)\u001b[0m\n\u001b[0;32m    934\u001b[0m     \u001b[1;32mdef\u001b[0m \u001b[0mset_clip_path\u001b[0m\u001b[1;33m(\u001b[0m\u001b[0mself\u001b[0m\u001b[1;33m,\u001b[0m \u001b[0mclippath\u001b[0m\u001b[1;33m,\u001b[0m \u001b[0mtransform\u001b[0m\u001b[1;33m=\u001b[0m\u001b[1;32mNone\u001b[0m\u001b[1;33m)\u001b[0m\u001b[1;33m:\u001b[0m\u001b[1;33m\u001b[0m\u001b[1;33m\u001b[0m\u001b[0m\n\u001b[0;32m    935\u001b[0m         \u001b[0msuper\u001b[0m\u001b[1;33m(\u001b[0m\u001b[1;33m)\u001b[0m\u001b[1;33m.\u001b[0m\u001b[0mset_clip_path\u001b[0m\u001b[1;33m(\u001b[0m\u001b[0mclippath\u001b[0m\u001b[1;33m,\u001b[0m \u001b[0mtransform\u001b[0m\u001b[1;33m)\u001b[0m\u001b[1;33m\u001b[0m\u001b[1;33m\u001b[0m\u001b[0m\n\u001b[1;32m--> 936\u001b[1;33m         \u001b[1;32mfor\u001b[0m \u001b[0mchild\u001b[0m \u001b[1;32min\u001b[0m \u001b[0mself\u001b[0m\u001b[1;33m.\u001b[0m\u001b[0mmajorTicks\u001b[0m \u001b[1;33m+\u001b[0m \u001b[0mself\u001b[0m\u001b[1;33m.\u001b[0m\u001b[0mminorTicks\u001b[0m\u001b[1;33m:\u001b[0m\u001b[1;33m\u001b[0m\u001b[1;33m\u001b[0m\u001b[0m\n\u001b[0m\u001b[0;32m    937\u001b[0m             \u001b[0mchild\u001b[0m\u001b[1;33m.\u001b[0m\u001b[0mset_clip_path\u001b[0m\u001b[1;33m(\u001b[0m\u001b[0mclippath\u001b[0m\u001b[1;33m,\u001b[0m \u001b[0mtransform\u001b[0m\u001b[1;33m)\u001b[0m\u001b[1;33m\u001b[0m\u001b[1;33m\u001b[0m\u001b[0m\n\u001b[0;32m    938\u001b[0m         \u001b[0mself\u001b[0m\u001b[1;33m.\u001b[0m\u001b[0mstale\u001b[0m \u001b[1;33m=\u001b[0m \u001b[1;32mTrue\u001b[0m\u001b[1;33m\u001b[0m\u001b[1;33m\u001b[0m\u001b[0m\n",
      "\u001b[1;32m~\\anaconda3\\envs\\bl_env\\lib\\site-packages\\matplotlib\\axis.py\u001b[0m in \u001b[0;36m__get__\u001b[1;34m(self, instance, cls)\u001b[0m\n\u001b[0;32m    595\u001b[0m             \u001b[1;32melse\u001b[0m\u001b[1;33m:\u001b[0m\u001b[1;33m\u001b[0m\u001b[1;33m\u001b[0m\u001b[0m\n\u001b[0;32m    596\u001b[0m                 \u001b[0minstance\u001b[0m\u001b[1;33m.\u001b[0m\u001b[0mminorTicks\u001b[0m \u001b[1;33m=\u001b[0m \u001b[1;33m[\u001b[0m\u001b[1;33m]\u001b[0m\u001b[1;33m\u001b[0m\u001b[1;33m\u001b[0m\u001b[0m\n\u001b[1;32m--> 597\u001b[1;33m                 \u001b[0mtick\u001b[0m \u001b[1;33m=\u001b[0m \u001b[0minstance\u001b[0m\u001b[1;33m.\u001b[0m\u001b[0m_get_tick\u001b[0m\u001b[1;33m(\u001b[0m\u001b[0mmajor\u001b[0m\u001b[1;33m=\u001b[0m\u001b[1;32mFalse\u001b[0m\u001b[1;33m)\u001b[0m\u001b[1;33m\u001b[0m\u001b[1;33m\u001b[0m\u001b[0m\n\u001b[0m\u001b[0;32m    598\u001b[0m                 \u001b[0minstance\u001b[0m\u001b[1;33m.\u001b[0m\u001b[0mminorTicks\u001b[0m\u001b[1;33m.\u001b[0m\u001b[0mappend\u001b[0m\u001b[1;33m(\u001b[0m\u001b[0mtick\u001b[0m\u001b[1;33m)\u001b[0m\u001b[1;33m\u001b[0m\u001b[1;33m\u001b[0m\u001b[0m\n\u001b[0;32m    599\u001b[0m                 \u001b[1;32mreturn\u001b[0m \u001b[0minstance\u001b[0m\u001b[1;33m.\u001b[0m\u001b[0mminorTicks\u001b[0m\u001b[1;33m\u001b[0m\u001b[1;33m\u001b[0m\u001b[0m\n",
      "\u001b[1;32m~\\anaconda3\\envs\\bl_env\\lib\\site-packages\\matplotlib\\axis.py\u001b[0m in \u001b[0;36m_get_tick\u001b[1;34m(self, major)\u001b[0m\n\u001b[0;32m   2323\u001b[0m         \u001b[1;32melse\u001b[0m\u001b[1;33m:\u001b[0m\u001b[1;33m\u001b[0m\u001b[1;33m\u001b[0m\u001b[0m\n\u001b[0;32m   2324\u001b[0m             \u001b[0mtick_kw\u001b[0m \u001b[1;33m=\u001b[0m \u001b[0mself\u001b[0m\u001b[1;33m.\u001b[0m\u001b[0m_minor_tick_kw\u001b[0m\u001b[1;33m\u001b[0m\u001b[1;33m\u001b[0m\u001b[0m\n\u001b[1;32m-> 2325\u001b[1;33m         \u001b[1;32mreturn\u001b[0m \u001b[0mYTick\u001b[0m\u001b[1;33m(\u001b[0m\u001b[0mself\u001b[0m\u001b[1;33m.\u001b[0m\u001b[0maxes\u001b[0m\u001b[1;33m,\u001b[0m \u001b[1;36m0\u001b[0m\u001b[1;33m,\u001b[0m \u001b[0mmajor\u001b[0m\u001b[1;33m=\u001b[0m\u001b[0mmajor\u001b[0m\u001b[1;33m,\u001b[0m \u001b[1;33m**\u001b[0m\u001b[0mtick_kw\u001b[0m\u001b[1;33m)\u001b[0m\u001b[1;33m\u001b[0m\u001b[1;33m\u001b[0m\u001b[0m\n\u001b[0m\u001b[0;32m   2326\u001b[0m \u001b[1;33m\u001b[0m\u001b[0m\n\u001b[0;32m   2327\u001b[0m     \u001b[1;32mdef\u001b[0m \u001b[0mset_label_position\u001b[0m\u001b[1;33m(\u001b[0m\u001b[0mself\u001b[0m\u001b[1;33m,\u001b[0m \u001b[0mposition\u001b[0m\u001b[1;33m)\u001b[0m\u001b[1;33m:\u001b[0m\u001b[1;33m\u001b[0m\u001b[1;33m\u001b[0m\u001b[0m\n",
      "\u001b[1;32m~\\anaconda3\\envs\\bl_env\\lib\\site-packages\\matplotlib\\axis.py\u001b[0m in \u001b[0;36m__init__\u001b[1;34m(self, *args, **kwargs)\u001b[0m\n\u001b[0;32m    474\u001b[0m \u001b[1;33m\u001b[0m\u001b[0m\n\u001b[0;32m    475\u001b[0m     \u001b[1;32mdef\u001b[0m \u001b[0m__init__\u001b[0m\u001b[1;33m(\u001b[0m\u001b[0mself\u001b[0m\u001b[1;33m,\u001b[0m \u001b[1;33m*\u001b[0m\u001b[0margs\u001b[0m\u001b[1;33m,\u001b[0m \u001b[1;33m**\u001b[0m\u001b[0mkwargs\u001b[0m\u001b[1;33m)\u001b[0m\u001b[1;33m:\u001b[0m\u001b[1;33m\u001b[0m\u001b[1;33m\u001b[0m\u001b[0m\n\u001b[1;32m--> 476\u001b[1;33m         \u001b[0msuper\u001b[0m\u001b[1;33m(\u001b[0m\u001b[1;33m)\u001b[0m\u001b[1;33m.\u001b[0m\u001b[0m__init__\u001b[0m\u001b[1;33m(\u001b[0m\u001b[1;33m*\u001b[0m\u001b[0margs\u001b[0m\u001b[1;33m,\u001b[0m \u001b[1;33m**\u001b[0m\u001b[0mkwargs\u001b[0m\u001b[1;33m)\u001b[0m\u001b[1;33m\u001b[0m\u001b[1;33m\u001b[0m\u001b[0m\n\u001b[0m\u001b[0;32m    477\u001b[0m         \u001b[1;31m# x in axes coords, y in data coords\u001b[0m\u001b[1;33m\u001b[0m\u001b[1;33m\u001b[0m\u001b[0m\n\u001b[0;32m    478\u001b[0m         \u001b[0max\u001b[0m \u001b[1;33m=\u001b[0m \u001b[0mself\u001b[0m\u001b[1;33m.\u001b[0m\u001b[0maxes\u001b[0m\u001b[1;33m\u001b[0m\u001b[1;33m\u001b[0m\u001b[0m\n",
      "\u001b[1;32m~\\anaconda3\\envs\\bl_env\\lib\\site-packages\\matplotlib\\axis.py\u001b[0m in \u001b[0;36m__init__\u001b[1;34m(self, axes, loc, size, width, color, tickdir, pad, labelsize, labelcolor, zorder, gridOn, tick1On, tick2On, label1On, label2On, major, labelrotation, grid_color, grid_linestyle, grid_linewidth, grid_alpha, **kw)\u001b[0m\n\u001b[0;32m    175\u001b[0m             rotation=self._labelrotation[1])\n\u001b[0;32m    176\u001b[0m \u001b[1;33m\u001b[0m\u001b[0m\n\u001b[1;32m--> 177\u001b[1;33m         \u001b[0mself\u001b[0m\u001b[1;33m.\u001b[0m\u001b[0m_apply_tickdir\u001b[0m\u001b[1;33m(\u001b[0m\u001b[0mtickdir\u001b[0m\u001b[1;33m)\u001b[0m\u001b[1;33m\u001b[0m\u001b[1;33m\u001b[0m\u001b[0m\n\u001b[0m\u001b[0;32m    178\u001b[0m \u001b[1;33m\u001b[0m\u001b[0m\n\u001b[0;32m    179\u001b[0m         for artist in [self.tick1line, self.tick2line, self.gridline,\n",
      "\u001b[1;32m~\\anaconda3\\envs\\bl_env\\lib\\site-packages\\matplotlib\\axis.py\u001b[0m in \u001b[0;36m_apply_tickdir\u001b[1;34m(self, tickdir)\u001b[0m\n\u001b[0;32m    509\u001b[0m             \u001b[1;34m'inout'\u001b[0m\u001b[1;33m:\u001b[0m \u001b[1;33m(\u001b[0m\u001b[1;34m'_'\u001b[0m\u001b[1;33m,\u001b[0m \u001b[1;34m'_'\u001b[0m\u001b[1;33m)\u001b[0m\u001b[1;33m,\u001b[0m\u001b[1;33m\u001b[0m\u001b[1;33m\u001b[0m\u001b[0m\n\u001b[0;32m    510\u001b[0m         }[self._tickdir]\n\u001b[1;32m--> 511\u001b[1;33m         \u001b[0mself\u001b[0m\u001b[1;33m.\u001b[0m\u001b[0mtick1line\u001b[0m\u001b[1;33m.\u001b[0m\u001b[0mset_marker\u001b[0m\u001b[1;33m(\u001b[0m\u001b[0mmark1\u001b[0m\u001b[1;33m)\u001b[0m\u001b[1;33m\u001b[0m\u001b[1;33m\u001b[0m\u001b[0m\n\u001b[0m\u001b[0;32m    512\u001b[0m         \u001b[0mself\u001b[0m\u001b[1;33m.\u001b[0m\u001b[0mtick2line\u001b[0m\u001b[1;33m.\u001b[0m\u001b[0mset_marker\u001b[0m\u001b[1;33m(\u001b[0m\u001b[0mmark2\u001b[0m\u001b[1;33m)\u001b[0m\u001b[1;33m\u001b[0m\u001b[1;33m\u001b[0m\u001b[0m\n\u001b[0;32m    513\u001b[0m \u001b[1;33m\u001b[0m\u001b[0m\n",
      "\u001b[1;32m~\\anaconda3\\envs\\bl_env\\lib\\site-packages\\matplotlib\\lines.py\u001b[0m in \u001b[0;36mset_marker\u001b[1;34m(self, marker)\u001b[0m\n\u001b[0;32m   1144\u001b[0m             \u001b[0marguments\u001b[0m\u001b[1;33m.\u001b[0m\u001b[1;33m\u001b[0m\u001b[1;33m\u001b[0m\u001b[0m\n\u001b[0;32m   1145\u001b[0m         \"\"\"\n\u001b[1;32m-> 1146\u001b[1;33m         \u001b[0mself\u001b[0m\u001b[1;33m.\u001b[0m\u001b[0m_marker\u001b[0m \u001b[1;33m=\u001b[0m \u001b[0mMarkerStyle\u001b[0m\u001b[1;33m(\u001b[0m\u001b[0mmarker\u001b[0m\u001b[1;33m,\u001b[0m \u001b[0mself\u001b[0m\u001b[1;33m.\u001b[0m\u001b[0m_marker\u001b[0m\u001b[1;33m.\u001b[0m\u001b[0mget_fillstyle\u001b[0m\u001b[1;33m(\u001b[0m\u001b[1;33m)\u001b[0m\u001b[1;33m)\u001b[0m\u001b[1;33m\u001b[0m\u001b[1;33m\u001b[0m\u001b[0m\n\u001b[0m\u001b[0;32m   1147\u001b[0m         \u001b[0mself\u001b[0m\u001b[1;33m.\u001b[0m\u001b[0mstale\u001b[0m \u001b[1;33m=\u001b[0m \u001b[1;32mTrue\u001b[0m\u001b[1;33m\u001b[0m\u001b[1;33m\u001b[0m\u001b[0m\n\u001b[0;32m   1148\u001b[0m \u001b[1;33m\u001b[0m\u001b[0m\n",
      "\u001b[1;32m~\\anaconda3\\envs\\bl_env\\lib\\site-packages\\matplotlib\\markers.py\u001b[0m in \u001b[0;36m__init__\u001b[1;34m(self, marker, fillstyle)\u001b[0m\n\u001b[0;32m    233\u001b[0m         \u001b[0mself\u001b[0m\u001b[1;33m.\u001b[0m\u001b[0m_marker_function\u001b[0m \u001b[1;33m=\u001b[0m \u001b[1;32mNone\u001b[0m\u001b[1;33m\u001b[0m\u001b[1;33m\u001b[0m\u001b[0m\n\u001b[0;32m    234\u001b[0m         \u001b[0mself\u001b[0m\u001b[1;33m.\u001b[0m\u001b[0m_set_fillstyle\u001b[0m\u001b[1;33m(\u001b[0m\u001b[0mfillstyle\u001b[0m\u001b[1;33m)\u001b[0m\u001b[1;33m\u001b[0m\u001b[1;33m\u001b[0m\u001b[0m\n\u001b[1;32m--> 235\u001b[1;33m         \u001b[0mself\u001b[0m\u001b[1;33m.\u001b[0m\u001b[0m_set_marker\u001b[0m\u001b[1;33m(\u001b[0m\u001b[0mmarker\u001b[0m\u001b[1;33m)\u001b[0m\u001b[1;33m\u001b[0m\u001b[1;33m\u001b[0m\u001b[0m\n\u001b[0m\u001b[0;32m    236\u001b[0m \u001b[1;33m\u001b[0m\u001b[0m\n\u001b[0;32m    237\u001b[0m     \u001b[1;32mdef\u001b[0m \u001b[0m_recache\u001b[0m\u001b[1;33m(\u001b[0m\u001b[0mself\u001b[0m\u001b[1;33m)\u001b[0m\u001b[1;33m:\u001b[0m\u001b[1;33m\u001b[0m\u001b[1;33m\u001b[0m\u001b[0m\n",
      "\u001b[1;32m~\\anaconda3\\envs\\bl_env\\lib\\site-packages\\matplotlib\\markers.py\u001b[0m in \u001b[0;36m_set_marker\u001b[1;34m(self, marker)\u001b[0m\n\u001b[0;32m    332\u001b[0m         \u001b[1;32mif\u001b[0m \u001b[1;32mnot\u001b[0m \u001b[0misinstance\u001b[0m\u001b[1;33m(\u001b[0m\u001b[0mmarker\u001b[0m\u001b[1;33m,\u001b[0m \u001b[0mMarkerStyle\u001b[0m\u001b[1;33m)\u001b[0m\u001b[1;33m:\u001b[0m\u001b[1;33m\u001b[0m\u001b[1;33m\u001b[0m\u001b[0m\n\u001b[0;32m    333\u001b[0m             \u001b[0mself\u001b[0m\u001b[1;33m.\u001b[0m\u001b[0m_marker\u001b[0m \u001b[1;33m=\u001b[0m \u001b[0mmarker\u001b[0m\u001b[1;33m\u001b[0m\u001b[1;33m\u001b[0m\u001b[0m\n\u001b[1;32m--> 334\u001b[1;33m             \u001b[0mself\u001b[0m\u001b[1;33m.\u001b[0m\u001b[0m_recache\u001b[0m\u001b[1;33m(\u001b[0m\u001b[1;33m)\u001b[0m\u001b[1;33m\u001b[0m\u001b[1;33m\u001b[0m\u001b[0m\n\u001b[0m\u001b[0;32m    335\u001b[0m \u001b[1;33m\u001b[0m\u001b[0m\n\u001b[0;32m    336\u001b[0m     \u001b[1;32mdef\u001b[0m \u001b[0mget_path\u001b[0m\u001b[1;33m(\u001b[0m\u001b[0mself\u001b[0m\u001b[1;33m)\u001b[0m\u001b[1;33m:\u001b[0m\u001b[1;33m\u001b[0m\u001b[1;33m\u001b[0m\u001b[0m\n",
      "\u001b[1;32m~\\anaconda3\\envs\\bl_env\\lib\\site-packages\\matplotlib\\markers.py\u001b[0m in \u001b[0;36m_recache\u001b[1;34m(self)\u001b[0m\n\u001b[0;32m    249\u001b[0m         \u001b[1;31m# markers.\u001b[0m\u001b[1;33m\u001b[0m\u001b[1;33m\u001b[0m\u001b[0m\n\u001b[0;32m    250\u001b[0m         \u001b[0mself\u001b[0m\u001b[1;33m.\u001b[0m\u001b[0m_filled\u001b[0m \u001b[1;33m=\u001b[0m \u001b[0mself\u001b[0m\u001b[1;33m.\u001b[0m\u001b[0m_fillstyle\u001b[0m \u001b[1;33m!=\u001b[0m \u001b[1;34m'none'\u001b[0m\u001b[1;33m\u001b[0m\u001b[1;33m\u001b[0m\u001b[0m\n\u001b[1;32m--> 251\u001b[1;33m         \u001b[0mself\u001b[0m\u001b[1;33m.\u001b[0m\u001b[0m_marker_function\u001b[0m\u001b[1;33m(\u001b[0m\u001b[1;33m)\u001b[0m\u001b[1;33m\u001b[0m\u001b[1;33m\u001b[0m\u001b[0m\n\u001b[0m\u001b[0;32m    252\u001b[0m \u001b[1;33m\u001b[0m\u001b[0m\n\u001b[0;32m    253\u001b[0m     \u001b[1;32mdef\u001b[0m \u001b[0m__bool__\u001b[0m\u001b[1;33m(\u001b[0m\u001b[0mself\u001b[0m\u001b[1;33m)\u001b[0m\u001b[1;33m:\u001b[0m\u001b[1;33m\u001b[0m\u001b[1;33m\u001b[0m\u001b[0m\n",
      "\u001b[1;32m~\\anaconda3\\envs\\bl_env\\lib\\site-packages\\matplotlib\\markers.py\u001b[0m in \u001b[0;36m_set_tickleft\u001b[1;34m(self)\u001b[0m\n\u001b[0;32m    681\u001b[0m \u001b[1;33m\u001b[0m\u001b[0m\n\u001b[0;32m    682\u001b[0m     \u001b[1;32mdef\u001b[0m \u001b[0m_set_tickleft\u001b[0m\u001b[1;33m(\u001b[0m\u001b[0mself\u001b[0m\u001b[1;33m)\u001b[0m\u001b[1;33m:\u001b[0m\u001b[1;33m\u001b[0m\u001b[1;33m\u001b[0m\u001b[0m\n\u001b[1;32m--> 683\u001b[1;33m         \u001b[0mself\u001b[0m\u001b[1;33m.\u001b[0m\u001b[0m_transform\u001b[0m \u001b[1;33m=\u001b[0m \u001b[0mAffine2D\u001b[0m\u001b[1;33m(\u001b[0m\u001b[1;33m)\u001b[0m\u001b[1;33m.\u001b[0m\u001b[0mscale\u001b[0m\u001b[1;33m(\u001b[0m\u001b[1;33m-\u001b[0m\u001b[1;36m1.0\u001b[0m\u001b[1;33m,\u001b[0m \u001b[1;36m1.0\u001b[0m\u001b[1;33m)\u001b[0m\u001b[1;33m\u001b[0m\u001b[1;33m\u001b[0m\u001b[0m\n\u001b[0m\u001b[0;32m    684\u001b[0m         \u001b[0mself\u001b[0m\u001b[1;33m.\u001b[0m\u001b[0m_snap_threshold\u001b[0m \u001b[1;33m=\u001b[0m \u001b[1;36m1.0\u001b[0m\u001b[1;33m\u001b[0m\u001b[1;33m\u001b[0m\u001b[0m\n\u001b[0;32m    685\u001b[0m         \u001b[0mself\u001b[0m\u001b[1;33m.\u001b[0m\u001b[0m_filled\u001b[0m \u001b[1;33m=\u001b[0m \u001b[1;32mFalse\u001b[0m\u001b[1;33m\u001b[0m\u001b[1;33m\u001b[0m\u001b[0m\n",
      "\u001b[1;32m~\\anaconda3\\envs\\bl_env\\lib\\site-packages\\matplotlib\\transforms.py\u001b[0m in \u001b[0;36m__init__\u001b[1;34m(self, matrix, **kwargs)\u001b[0m\n\u001b[0;32m   1912\u001b[0m             \u001b[1;31m# A bit faster than np.identity(3).\u001b[0m\u001b[1;33m\u001b[0m\u001b[1;33m\u001b[0m\u001b[0m\n\u001b[0;32m   1913\u001b[0m             \u001b[0mmatrix\u001b[0m \u001b[1;33m=\u001b[0m \u001b[0mIdentityTransform\u001b[0m\u001b[1;33m.\u001b[0m\u001b[0m_mtx\u001b[0m\u001b[1;33m.\u001b[0m\u001b[0mcopy\u001b[0m\u001b[1;33m(\u001b[0m\u001b[1;33m)\u001b[0m\u001b[1;33m\u001b[0m\u001b[1;33m\u001b[0m\u001b[0m\n\u001b[1;32m-> 1914\u001b[1;33m         \u001b[0mself\u001b[0m\u001b[1;33m.\u001b[0m\u001b[0m_mtx\u001b[0m \u001b[1;33m=\u001b[0m \u001b[0mmatrix\u001b[0m\u001b[1;33m.\u001b[0m\u001b[0mcopy\u001b[0m\u001b[1;33m(\u001b[0m\u001b[1;33m)\u001b[0m\u001b[1;33m\u001b[0m\u001b[1;33m\u001b[0m\u001b[0m\n\u001b[0m\u001b[0;32m   1915\u001b[0m         \u001b[0mself\u001b[0m\u001b[1;33m.\u001b[0m\u001b[0m_invalid\u001b[0m \u001b[1;33m=\u001b[0m \u001b[1;36m0\u001b[0m\u001b[1;33m\u001b[0m\u001b[1;33m\u001b[0m\u001b[0m\n\u001b[0;32m   1916\u001b[0m \u001b[1;33m\u001b[0m\u001b[0m\n",
      "\u001b[1;31mKeyboardInterrupt\u001b[0m: "
     ]
    },
    {
     "data": {
      "image/png": "[encoded data removed]",
      "text/plain": [
       "<Figure size 432x288 with 1 Axes>"
      ]
     },
     "metadata": {
      "needs_background": "light"
     },
     "output_type": "display_data"
    },
    {
     "data": {
      "image/png": "[encoded data removed]",
      "text/plain": [
       "<Figure size 432x288 with 1 Axes>"
      ]
     },
     "metadata": {
      "needs_background": "light"
     },
     "output_type": "display_data"
    },
    {
     "data": {
      "image/png": "[encoded data removed]",
      "text/plain": [
       "<Figure size 432x288 with 1 Axes>"
      ]
     },
     "metadata": {
      "needs_background": "light"
     },
     "output_type": "display_data"
    },
    {
     "data": {
      "image/png": "[encoded data removed]",
      "text/plain": [
       "<Figure size 432x288 with 1 Axes>"
      ]
     },
     "metadata": {
      "needs_background": "light"
     },
     "output_type": "display_data"
    },
    {
     "data": {
      "image/png": "[encoded data removed]",
      "text/plain": [
       "<Figure size 432x288 with 1 Axes>"
      ]
     },
     "metadata": {
      "needs_background": "light"
     },
     "output_type": "display_data"
    },
    {
     "data": {
      "image/png": "[encoded data removed]",
      "text/plain": [
       "<Figure size 432x288 with 1 Axes>"
      ]
     },
     "metadata": {
      "needs_background": "light"
     },
     "output_type": "display_data"
    },
    {
     "data": {
      "image/png": "[encoded data removed]",
      "text/plain": [
       "<Figure size 432x288 with 1 Axes>"
      ]
     },
     "metadata": {
      "needs_background": "light"
     },
     "output_type": "display_data"
    },
    {
     "data": {
      "image/png": "[encoded data removed]",
      "text/plain": [
       "<Figure size 432x288 with 1 Axes>"
      ]
     },
     "metadata": {
      "needs_background": "light"
     },
     "output_type": "display_data"
    },
    {
     "data": {
      "image/png": "[encoded data removed]",
      "text/plain": [
       "<Figure size 432x288 with 1 Axes>"
      ]
     },
     "metadata": {
      "needs_background": "light"
     },
     "output_type": "display_data"
    },
    {
     "data": {
      "image/png": "[encoded data removed]",
      "text/plain": [
       "<Figure size 432x288 with 1 Axes>"
      ]
     },
     "metadata": {
      "needs_background": "light"
     },
     "output_type": "display_data"
    },
    {
     "data": {
      "image/png": "[encoded data removed]",
      "text/plain": [
       "<Figure size 432x288 with 1 Axes>"
      ]
     },
     "metadata": {
      "needs_background": "light"
     },
     "output_type": "display_data"
    },
    {
     "data": {
      "image/png": "[encoded data removed]",
      "text/plain": [
       "<Figure size 432x288 with 1 Axes>"
      ]
     },
     "metadata": {
      "needs_background": "light"
     },
     "output_type": "display_data"
    },
    {
     "data": {
      "image/png": "[encoded data removed]",
      "text/plain": [
       "<Figure size 432x288 with 1 Axes>"
      ]
     },
     "metadata": {
      "needs_background": "light"
     },
     "output_type": "display_data"
    },
    {
     "data": {
      "image/png": "[encoded data removed]",
      "text/plain": [
       "<Figure size 432x288 with 1 Axes>"
      ]
     },
     "metadata": {
      "needs_background": "light"
     },
     "output_type": "display_data"
    },
    {
     "data": {
      "image/png": "[encoded data removed]",
      "text/plain": [
       "<Figure size 432x288 with 1 Axes>"
      ]
     },
     "metadata": {
      "needs_background": "light"
     },
     "output_type": "display_data"
    },
    {
     "data": {
      "image/png": "[encoded data removed]",
      "text/plain": [
       "<Figure size 432x288 with 1 Axes>"
      ]
     },
     "metadata": {
      "needs_background": "light"
     },
     "output_type": "display_data"
    },
    {
     "data": {
      "image/png": "[encoded data removed]",
      "text/plain": [
       "<Figure size 432x288 with 1 Axes>"
      ]
     },
     "metadata": {
      "needs_background": "light"
     },
     "output_type": "display_data"
    },
    {
     "data": {
      "image/png": "[encoded data removed]",
      "text/plain": [
       "<Figure size 432x288 with 1 Axes>"
      ]
     },
     "metadata": {
      "needs_background": "light"
     },
     "output_type": "display_data"
    },
    {
     "data": {
      "image/png": "[encoded data removed]",
      "text/plain": [
       "<Figure size 432x288 with 1 Axes>"
      ]
     },
     "metadata": {
      "needs_background": "light"
     },
     "output_type": "display_data"
    },
    {
     "data": {
      "image/png": "[encoded data removed]",
      "text/plain": [
       "<Figure size 432x288 with 1 Axes>"
      ]
     },
     "metadata": {
      "needs_background": "light"
     },
     "output_type": "display_data"
    },
    {
     "data": {
      "image/png": "[encoded data removed]",
      "text/plain": [
       "<Figure size 432x288 with 1 Axes>"
      ]
     },
     "metadata": {
      "needs_background": "light"
     },
     "output_type": "display_data"
    },
    {
     "data": {
      "image/png": "[encoded data removed]",
      "text/plain": [
       "<Figure size 432x288 with 1 Axes>"
      ]
     },
     "metadata": {
      "needs_background": "light"
     },
     "output_type": "display_data"
    },
    {
     "data": {
      "image/png": "[encoded data removed]",
      "text/plain": [
       "<Figure size 432x288 with 1 Axes>"
      ]
     },
     "metadata": {
      "needs_background": "light"
     },
     "output_type": "display_data"
    },
    {
     "data": {
      "image/png": "[encoded data removed]",
      "text/plain": [
       "<Figure size 432x288 with 1 Axes>"
      ]
     },
     "metadata": {
      "needs_background": "light"
     },
     "output_type": "display_data"
    },
    {
     "data": {
      "image/png": "[encoded data removed]",
      "text/plain": [
       "<Figure size 432x288 with 1 Axes>"
      ]
     },
     "metadata": {
      "needs_background": "light"
     },
     "output_type": "display_data"
    },
    {
     "data": {
      "image/png": "[encoded data removed]",
      "text/plain": [
       "<Figure size 432x288 with 1 Axes>"
      ]
     },
     "metadata": {
      "needs_background": "light"
     },
     "output_type": "display_data"
    },
    {
     "data": {
      "image/png": "[encoded data removed]",
      "text/plain": [
       "<Figure size 432x288 with 1 Axes>"
      ]
     },
     "metadata": {
      "needs_background": "light"
     },
     "output_type": "display_data"
    },
    {
     "data": {
      "image/png": "[encoded data removed]",
      "text/plain": [
       "<Figure size 432x288 with 1 Axes>"
      ]
     },
     "metadata": {
      "needs_background": "light"
     },
     "output_type": "display_data"
    },
    {
     "data": {
      "image/png": "[encoded data removed]",
      "text/plain": [
       "<Figure size 432x288 with 1 Axes>"
      ]
     },
     "metadata": {
      "needs_background": "light"
     },
     "output_type": "display_data"
    },
    {
     "data": {
      "image/png": "[encoded data removed]",
      "text/plain": [
       "<Figure size 432x288 with 1 Axes>"
      ]
     },
     "metadata": {
      "needs_background": "light"
     },
     "output_type": "display_data"
    },
    {
     "data": {
      "image/png": "[encoded data removed]",
      "text/plain": [
       "<Figure size 432x288 with 1 Axes>"
      ]
     },
     "metadata": {
      "needs_background": "light"
     },
     "output_type": "display_data"
    },
    {
     "data": {
      "image/png": "[encoded data removed]",
      "text/plain": [
       "<Figure size 432x288 with 1 Axes>"
      ]
     },
     "metadata": {
      "needs_background": "light"
     },
     "output_type": "display_data"
    },
    {
     "data": {
      "image/png": "[encoded data removed]",
      "text/plain": [
       "<Figure size 432x288 with 1 Axes>"
      ]
     },
     "metadata": {
      "needs_background": "light"
     },
     "output_type": "display_data"
    },
    {
     "data": {
      "image/png": "[encoded data removed]",
      "text/plain": [
       "<Figure size 432x288 with 1 Axes>"
      ]
     },
     "metadata": {
      "needs_background": "light"
     },
     "output_type": "display_data"
    },
    {
     "data": {
      "image/png": "[encoded data removed]",
      "text/plain": [
       "<Figure size 432x288 with 1 Axes>"
      ]
     },
     "metadata": {
      "needs_background": "light"
     },
     "output_type": "display_data"
    },
    {
     "data": {
      "image/png": "[encoded data removed]",
      "text/plain": [
       "<Figure size 432x288 with 1 Axes>"
      ]
     },
     "metadata": {
      "needs_background": "light"
     },
     "output_type": "display_data"
    },
    {
     "data": {
      "image/png": "[encoded data removed]",
      "text/plain": [
       "<Figure size 432x288 with 1 Axes>"
      ]
     },
     "metadata": {
      "needs_background": "light"
     },
     "output_type": "display_data"
    },
    {
     "data": {
      "image/png": "[encoded data removed]",
      "text/plain": [
       "<Figure size 432x288 with 1 Axes>"
      ]
     },
     "metadata": {
      "needs_background": "light"
     },
     "output_type": "display_data"
    },
    {
     "data": {
      "image/png": "[encoded data removed]",
      "text/plain": [
       "<Figure size 432x288 with 1 Axes>"
      ]
     },
     "metadata": {
      "needs_background": "light"
     },
     "output_type": "display_data"
    },
    {
     "data": {
      "image/png": "[encoded data removed]",
      "text/plain": [
       "<Figure size 432x288 with 1 Axes>"
      ]
     },
     "metadata": {
      "needs_background": "light"
     },
     "output_type": "display_data"
    },
    {
     "data": {
      "image/png": "[encoded data removed]",
      "text/plain": [
       "<Figure size 432x288 with 1 Axes>"
      ]
     },
     "metadata": {
      "needs_background": "light"
     },
     "output_type": "display_data"
    },
    {
     "data": {
      "image/png": "[encoded data removed]",
      "text/plain": [
       "<Figure size 432x288 with 1 Axes>"
      ]
     },
     "metadata": {
      "needs_background": "light"
     },
     "output_type": "display_data"
    },
    {
     "data": {
      "image/png": "[encoded data removed]",
      "text/plain": [
       "<Figure size 432x288 with 1 Axes>"
      ]
     },
     "metadata": {
      "needs_background": "light"
     },
     "output_type": "display_data"
    },
    {
     "data": {
      "image/png": "[encoded data removed]",
      "text/plain": [
       "<Figure size 432x288 with 1 Axes>"
      ]
     },
     "metadata": {
      "needs_background": "light"
     },
     "output_type": "display_data"
    },
    {
     "data": {
      "image/png": "[encoded data removed]",
      "text/plain": [
       "<Figure size 432x288 with 1 Axes>"
      ]
     },
     "metadata": {
      "needs_background": "light"
     },
     "output_type": "display_data"
    },
    {
     "data": {
      "image/png": "[encoded data removed]",
      "text/plain": [
       "<Figure size 432x288 with 1 Axes>"
      ]
     },
     "metadata": {
      "needs_background": "light"
     },
     "output_type": "display_data"
    },
    {
     "data": {
      "image/png": "[encoded data removed]",
      "text/plain": [
       "<Figure size 432x288 with 1 Axes>"
      ]
     },
     "metadata": {
      "needs_background": "light"
     },
     "output_type": "display_data"
    },
    {
     "data": {
      "image/png": "[encoded data removed]",
      "text/plain": [
       "<Figure size 432x288 with 1 Axes>"
      ]
     },
     "metadata": {
      "needs_background": "light"
     },
     "output_type": "display_data"
    },
    {
     "data": {
      "image/png": "[encoded data removed]",
      "text/plain": [
       "<Figure size 432x288 with 1 Axes>"
      ]
     },
     "metadata": {
      "needs_background": "light"
     },
     "output_type": "display_data"
    },
    {
     "data": {
      "image/png": "[encoded data removed]",
      "text/plain": [
       "<Figure size 432x288 with 1 Axes>"
      ]
     },
     "metadata": {
      "needs_background": "light"
     },
     "output_type": "display_data"
    },
    {
     "data": {
      "image/png": "[encoded data removed]",
      "text/plain": [
       "<Figure size 432x288 with 1 Axes>"
      ]
     },
     "metadata": {
      "needs_background": "light"
     },
     "output_type": "display_data"
    },
    {
     "data": {
      "image/png": "[encoded data removed]",
      "text/plain": [
       "<Figure size 432x288 with 1 Axes>"
      ]
     },
     "metadata": {
      "needs_background": "light"
     },
     "output_type": "display_data"
    },
    {
     "data": {
      "image/png": "[encoded data removed]",
      "text/plain": [
       "<Figure size 432x288 with 1 Axes>"
      ]
     },
     "metadata": {
      "needs_background": "light"
     },
     "output_type": "display_data"
    },
    {
     "data": {
      "image/png": "[encoded data removed]",
      "text/plain": [
       "<Figure size 432x288 with 1 Axes>"
      ]
     },
     "metadata": {
      "needs_background": "light"
     },
     "output_type": "display_data"
    },
    {
     "data": {
      "image/png": "[encoded data removed]",
      "text/plain": [
       "<Figure size 432x288 with 1 Axes>"
      ]
     },
     "metadata": {
      "needs_background": "light"
     },
     "output_type": "display_data"
    },
    {
     "data": {
      "image/png": "[encoded data removed]",
      "text/plain": [
       "<Figure size 432x288 with 1 Axes>"
      ]
     },
     "metadata": {
      "needs_background": "light"
     },
     "output_type": "display_data"
    },
    {
     "data": {
      "image/png": "[encoded data removed]",
      "text/plain": [
       "<Figure size 432x288 with 1 Axes>"
      ]
     },
     "metadata": {
      "needs_background": "light"
     },
     "output_type": "display_data"
    },
    {
     "data": {
      "image/png": "[encoded data removed]",
      "text/plain": [
       "<Figure size 432x288 with 1 Axes>"
      ]
     },
     "metadata": {
      "needs_background": "light"
     },
     "output_type": "display_data"
    },
    {
     "data": {
      "image/png": "[encoded data removed]",
      "text/plain": [
       "<Figure size 432x288 with 1 Axes>"
      ]
     },
     "metadata": {
      "needs_background": "light"
     },
     "output_type": "display_data"
    },
    {
     "data": {
      "image/png": "[encoded data removed]",
      "text/plain": [
       "<Figure size 432x288 with 1 Axes>"
      ]
     },
     "metadata": {
      "needs_background": "light"
     },
     "output_type": "display_data"
    },
    {
     "data": {
      "image/png": "[encoded data removed]",
      "text/plain": [
       "<Figure size 432x288 with 1 Axes>"
      ]
     },
     "metadata": {
      "needs_background": "light"
     },
     "output_type": "display_data"
    },
    {
     "data": {
      "image/png": "[encoded data removed]",
      "text/plain": [
       "<Figure size 432x288 with 1 Axes>"
      ]
     },
     "metadata": {
      "needs_background": "light"
     },
     "output_type": "display_data"
    },
    {
     "data": {
      "image/png": "[encoded data removed]",
      "text/plain": [
       "<Figure size 432x288 with 1 Axes>"
      ]
     },
     "metadata": {
      "needs_background": "light"
     },
     "output_type": "display_data"
    },
    {
     "data": {
      "image/png": "[encoded data removed]",
      "text/plain": [
       "<Figure size 432x288 with 1 Axes>"
      ]
     },
     "metadata": {
      "needs_background": "light"
     },
     "output_type": "display_data"
    },
    {
     "data": {
      "image/png": "[encoded data removed]",
      "text/plain": [
       "<Figure size 432x288 with 1 Axes>"
      ]
     },
     "metadata": {
      "needs_background": "light"
     },
     "output_type": "display_data"
    }
   ],
   "source": [
    "episodes = 2\n",
    "for episode in range(1, episodes+1):\n",
    "    state = env.reset()\n",
    "    done = False\n",
    "    score = 0\n",
    "\n",
    "    while not done:\n",
    "        env.render(mode = 'human')\n",
    "        time.sleep(.01)\n",
    "        action = env.action_space.sample()\n",
    "        n_state, reward, done = env.step(action)\n",
    "        score += reward\n",
    "    \n",
    "    print('Episode:{} Score:{}'.format(episode, score))"
   ]
  },
  {
   "cell_type": "markdown",
   "metadata": {},
   "source": [
    "# Create Model"
   ]
  },
  {
   "cell_type": "code",
   "execution_count": null,
   "metadata": {},
   "outputs": [],
   "source": [
    "from tensorflow.keras.models import Sequential\n",
    "from tensorflow.keras.layers import Dense, Flatten\n",
    "from tensorflow.keras.optimizers import Adam"
   ]
  },
  {
   "cell_type": "code",
   "execution_count": null,
   "metadata": {},
   "outputs": [],
   "source": [
    "states = env.observation_space.shape\n",
    "actions = env.action_space.shape\n",
    "actions"
   ]
  },
  {
   "cell_type": "code",
   "execution_count": null,
   "metadata": {},
   "outputs": [],
   "source": [
    "env.action_space.sample()"
   ]
  },
  {
   "cell_type": "code",
   "execution_count": null,
   "metadata": {},
   "outputs": [],
   "source": []
  },
  {
   "cell_type": "code",
   "execution_count": null,
   "metadata": {},
   "outputs": [],
   "source": []
  },
  {
   "cell_type": "code",
   "execution_count": null,
   "metadata": {},
   "outputs": [],
   "source": []
  }
 ],
 "metadata": {
  "interpreter": {
   "hash": "3b17ef8df479fa08e9962263173b244cc1b591c2737ad10bd19c79ce761cf93e"
  },
  "kernelspec": {
   "display_name": "Python 3.9.7 ('bl_env')",
   "language": "python",
   "name": "python3"
  },
  "language_info": {
   "codemirror_mode": {
    "name": "ipython",
    "version": 3
   },
   "file_extension": ".py",
   "mimetype": "text/x-python",
   "name": "python",
   "nbconvert_exporter": "python",
   "pygments_lexer": "ipython3",
   "version": "3.9.7"
  },
  "orig_nbformat": 4
 },
 "nbformat": 4,
 "nbformat_minor": 2
}
